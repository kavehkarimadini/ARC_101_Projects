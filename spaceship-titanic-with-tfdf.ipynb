{
 "cells": [
  {
   "cell_type": "markdown",
   "id": "6bae6746",
   "metadata": {
    "id": "Ck00s7mTmnjA",
    "papermill": {
     "duration": 0.011846,
     "end_time": "2025-01-10T08:49:05.766060",
     "exception": false,
     "start_time": "2025-01-10T08:49:05.754214",
     "status": "completed"
    },
    "tags": []
   },
   "source": [
    "# Spaceship Titanic Dataset with TensorFlow Decision Forests"
   ]
  },
  {
   "cell_type": "markdown",
   "id": "c49238c3",
   "metadata": {
    "id": "62leGXylmnjF",
    "papermill": {
     "duration": 0.010044,
     "end_time": "2025-01-10T08:49:05.786697",
     "exception": false,
     "start_time": "2025-01-10T08:49:05.776653",
     "status": "completed"
    },
    "tags": []
   },
   "source": [
    "This notebook walks you through how to train a baseline Random Forest model using TensorFlow Decision Forests on the Spaceship Titanic dataset made available for this competition.\n",
    "\n",
    "Roughly, the code will look as follows:\n",
    "\n",
    "```\n",
    "import tensorflow_decision_forests as tfdf\n",
    "import pandas as pd\n",
    "\n",
    "dataset = pd.read_csv(\"project/dataset.csv\")\n",
    "tf_dataset = tfdf.keras.pd_dataframe_to_tf_dataset(dataset, label=\"my_label\")\n",
    "\n",
    "model = tfdf.keras.RandomForestModel()\n",
    "model.fit(tf_dataset)\n",
    "\n",
    "print(model.summary())\n",
    "```\n",
    "\n",
    "Decision Forests are a family of tree-based models including Random Forests and Gradient Boosted Trees. They are the best place to start when working with tabular data, and will often outperform (or provide a strong baseline) before you begin experimenting with neural networks."
   ]
  },
  {
   "cell_type": "markdown",
   "id": "4d4a767d",
   "metadata": {
    "id": "UPNzfVOEmnjH",
    "papermill": {
     "duration": 0.010156,
     "end_time": "2025-01-10T08:49:05.807350",
     "exception": false,
     "start_time": "2025-01-10T08:49:05.797194",
     "status": "completed"
    },
    "tags": []
   },
   "source": [
    "# Import the library"
   ]
  },
  {
   "cell_type": "code",
   "execution_count": 1,
   "id": "2af432e5",
   "metadata": {
    "execution": {
     "iopub.execute_input": "2025-01-10T08:49:05.831408Z",
     "iopub.status.busy": "2025-01-10T08:49:05.830942Z",
     "iopub.status.idle": "2025-01-10T08:49:15.264334Z",
     "shell.execute_reply": "2025-01-10T08:49:15.263230Z"
    },
    "id": "mmwBzpblmnjH",
    "papermill": {
     "duration": 9.448138,
     "end_time": "2025-01-10T08:49:15.267234",
     "exception": false,
     "start_time": "2025-01-10T08:49:05.819096",
     "status": "completed"
    },
    "tags": []
   },
   "outputs": [],
   "source": [
    "import tensorflow as tf\n",
    "import tensorflow_decision_forests as tfdf\n",
    "import pandas as pd\n",
    "import numpy as np\n",
    "import seaborn as sns\n",
    "import matplotlib.pyplot as plt"
   ]
  },
  {
   "cell_type": "code",
   "execution_count": 2,
   "id": "376f4b39",
   "metadata": {
    "execution": {
     "iopub.execute_input": "2025-01-10T08:49:15.292123Z",
     "iopub.status.busy": "2025-01-10T08:49:15.290530Z",
     "iopub.status.idle": "2025-01-10T08:49:15.297628Z",
     "shell.execute_reply": "2025-01-10T08:49:15.296441Z"
    },
    "id": "grAO86gTmnjJ",
    "papermill": {
     "duration": 0.0218,
     "end_time": "2025-01-10T08:49:15.300079",
     "exception": false,
     "start_time": "2025-01-10T08:49:15.278279",
     "status": "completed"
    },
    "tags": []
   },
   "outputs": [
    {
     "name": "stdout",
     "output_type": "stream",
     "text": [
      "TensorFlow v2.11.0\n",
      "TensorFlow Decision Forests v1.2.0\n"
     ]
    }
   ],
   "source": [
    "print(\"TensorFlow v\" + tf.__version__)\n",
    "print(\"TensorFlow Decision Forests v\" + tfdf.__version__)"
   ]
  },
  {
   "cell_type": "markdown",
   "id": "18a04be4",
   "metadata": {
    "id": "6sHFpppPmnjJ",
    "papermill": {
     "duration": 0.010257,
     "end_time": "2025-01-10T08:49:15.320926",
     "exception": false,
     "start_time": "2025-01-10T08:49:15.310669",
     "status": "completed"
    },
    "tags": []
   },
   "source": [
    "# Load the Dataset"
   ]
  },
  {
   "cell_type": "code",
   "execution_count": 3,
   "id": "c1a4ac39",
   "metadata": {
    "execution": {
     "iopub.execute_input": "2025-01-10T08:49:15.344167Z",
     "iopub.status.busy": "2025-01-10T08:49:15.343338Z",
     "iopub.status.idle": "2025-01-10T08:49:15.401380Z",
     "shell.execute_reply": "2025-01-10T08:49:15.400085Z"
    },
    "id": "c1P3Y3a7mnjL",
    "papermill": {
     "duration": 0.072187,
     "end_time": "2025-01-10T08:49:15.403742",
     "exception": false,
     "start_time": "2025-01-10T08:49:15.331555",
     "status": "completed"
    },
    "tags": []
   },
   "outputs": [
    {
     "name": "stdout",
     "output_type": "stream",
     "text": [
      "Full train dataset shape is (8693, 14)\n"
     ]
    }
   ],
   "source": [
    "# Load a dataset into a Pandas Dataframe\n",
    "dataset_df = pd.read_csv('/kaggle/input/spaceship-titanic/train.csv')\n",
    "print(\"Full train dataset shape is {}\".format(dataset_df.shape))"
   ]
  },
  {
   "cell_type": "markdown",
   "id": "5246da68",
   "metadata": {
    "id": "cEd92zhJmnjL",
    "papermill": {
     "duration": 0.010181,
     "end_time": "2025-01-10T08:49:15.424622",
     "exception": false,
     "start_time": "2025-01-10T08:49:15.414441",
     "status": "completed"
    },
    "tags": []
   },
   "source": [
    "The data is composed of 14 columns and 8693 entries. We can see all 14 dimensions of our dataset by printing out the first 5 entries using the following code:"
   ]
  },
  {
   "cell_type": "code",
   "execution_count": 4,
   "id": "49b68090",
   "metadata": {
    "execution": {
     "iopub.execute_input": "2025-01-10T08:49:15.448416Z",
     "iopub.status.busy": "2025-01-10T08:49:15.447240Z",
     "iopub.status.idle": "2025-01-10T08:49:15.484580Z",
     "shell.execute_reply": "2025-01-10T08:49:15.483250Z"
    },
    "id": "nCx3PE1xmnjM",
    "papermill": {
     "duration": 0.051771,
     "end_time": "2025-01-10T08:49:15.486981",
     "exception": false,
     "start_time": "2025-01-10T08:49:15.435210",
     "status": "completed"
    },
    "tags": []
   },
   "outputs": [
    {
     "data": {
      "text/html": [
       "<div>\n",
       "<style scoped>\n",
       "    .dataframe tbody tr th:only-of-type {\n",
       "        vertical-align: middle;\n",
       "    }\n",
       "\n",
       "    .dataframe tbody tr th {\n",
       "        vertical-align: top;\n",
       "    }\n",
       "\n",
       "    .dataframe thead th {\n",
       "        text-align: right;\n",
       "    }\n",
       "</style>\n",
       "<table border=\"1\" class=\"dataframe\">\n",
       "  <thead>\n",
       "    <tr style=\"text-align: right;\">\n",
       "      <th></th>\n",
       "      <th>PassengerId</th>\n",
       "      <th>HomePlanet</th>\n",
       "      <th>CryoSleep</th>\n",
       "      <th>Cabin</th>\n",
       "      <th>Destination</th>\n",
       "      <th>Age</th>\n",
       "      <th>VIP</th>\n",
       "      <th>RoomService</th>\n",
       "      <th>FoodCourt</th>\n",
       "      <th>ShoppingMall</th>\n",
       "      <th>Spa</th>\n",
       "      <th>VRDeck</th>\n",
       "      <th>Name</th>\n",
       "      <th>Transported</th>\n",
       "    </tr>\n",
       "  </thead>\n",
       "  <tbody>\n",
       "    <tr>\n",
       "      <th>0</th>\n",
       "      <td>0001_01</td>\n",
       "      <td>Europa</td>\n",
       "      <td>False</td>\n",
       "      <td>B/0/P</td>\n",
       "      <td>TRAPPIST-1e</td>\n",
       "      <td>39.0</td>\n",
       "      <td>False</td>\n",
       "      <td>0.0</td>\n",
       "      <td>0.0</td>\n",
       "      <td>0.0</td>\n",
       "      <td>0.0</td>\n",
       "      <td>0.0</td>\n",
       "      <td>Maham Ofracculy</td>\n",
       "      <td>False</td>\n",
       "    </tr>\n",
       "    <tr>\n",
       "      <th>1</th>\n",
       "      <td>0002_01</td>\n",
       "      <td>Earth</td>\n",
       "      <td>False</td>\n",
       "      <td>F/0/S</td>\n",
       "      <td>TRAPPIST-1e</td>\n",
       "      <td>24.0</td>\n",
       "      <td>False</td>\n",
       "      <td>109.0</td>\n",
       "      <td>9.0</td>\n",
       "      <td>25.0</td>\n",
       "      <td>549.0</td>\n",
       "      <td>44.0</td>\n",
       "      <td>Juanna Vines</td>\n",
       "      <td>True</td>\n",
       "    </tr>\n",
       "    <tr>\n",
       "      <th>2</th>\n",
       "      <td>0003_01</td>\n",
       "      <td>Europa</td>\n",
       "      <td>False</td>\n",
       "      <td>A/0/S</td>\n",
       "      <td>TRAPPIST-1e</td>\n",
       "      <td>58.0</td>\n",
       "      <td>True</td>\n",
       "      <td>43.0</td>\n",
       "      <td>3576.0</td>\n",
       "      <td>0.0</td>\n",
       "      <td>6715.0</td>\n",
       "      <td>49.0</td>\n",
       "      <td>Altark Susent</td>\n",
       "      <td>False</td>\n",
       "    </tr>\n",
       "    <tr>\n",
       "      <th>3</th>\n",
       "      <td>0003_02</td>\n",
       "      <td>Europa</td>\n",
       "      <td>False</td>\n",
       "      <td>A/0/S</td>\n",
       "      <td>TRAPPIST-1e</td>\n",
       "      <td>33.0</td>\n",
       "      <td>False</td>\n",
       "      <td>0.0</td>\n",
       "      <td>1283.0</td>\n",
       "      <td>371.0</td>\n",
       "      <td>3329.0</td>\n",
       "      <td>193.0</td>\n",
       "      <td>Solam Susent</td>\n",
       "      <td>False</td>\n",
       "    </tr>\n",
       "    <tr>\n",
       "      <th>4</th>\n",
       "      <td>0004_01</td>\n",
       "      <td>Earth</td>\n",
       "      <td>False</td>\n",
       "      <td>F/1/S</td>\n",
       "      <td>TRAPPIST-1e</td>\n",
       "      <td>16.0</td>\n",
       "      <td>False</td>\n",
       "      <td>303.0</td>\n",
       "      <td>70.0</td>\n",
       "      <td>151.0</td>\n",
       "      <td>565.0</td>\n",
       "      <td>2.0</td>\n",
       "      <td>Willy Santantines</td>\n",
       "      <td>True</td>\n",
       "    </tr>\n",
       "  </tbody>\n",
       "</table>\n",
       "</div>"
      ],
      "text/plain": [
       "  PassengerId HomePlanet CryoSleep  Cabin  Destination   Age    VIP  \\\n",
       "0     0001_01     Europa     False  B/0/P  TRAPPIST-1e  39.0  False   \n",
       "1     0002_01      Earth     False  F/0/S  TRAPPIST-1e  24.0  False   \n",
       "2     0003_01     Europa     False  A/0/S  TRAPPIST-1e  58.0   True   \n",
       "3     0003_02     Europa     False  A/0/S  TRAPPIST-1e  33.0  False   \n",
       "4     0004_01      Earth     False  F/1/S  TRAPPIST-1e  16.0  False   \n",
       "\n",
       "   RoomService  FoodCourt  ShoppingMall     Spa  VRDeck               Name  \\\n",
       "0          0.0        0.0           0.0     0.0     0.0    Maham Ofracculy   \n",
       "1        109.0        9.0          25.0   549.0    44.0       Juanna Vines   \n",
       "2         43.0     3576.0           0.0  6715.0    49.0      Altark Susent   \n",
       "3          0.0     1283.0         371.0  3329.0   193.0       Solam Susent   \n",
       "4        303.0       70.0         151.0   565.0     2.0  Willy Santantines   \n",
       "\n",
       "   Transported  \n",
       "0        False  \n",
       "1         True  \n",
       "2        False  \n",
       "3        False  \n",
       "4         True  "
      ]
     },
     "execution_count": 4,
     "metadata": {},
     "output_type": "execute_result"
    }
   ],
   "source": [
    "# Display the first 5 examples\n",
    "dataset_df.head(5)"
   ]
  },
  {
   "cell_type": "markdown",
   "id": "31ca725f",
   "metadata": {
    "id": "0-Euaq6dmnjN",
    "papermill": {
     "duration": 0.010414,
     "end_time": "2025-01-10T08:49:15.508327",
     "exception": false,
     "start_time": "2025-01-10T08:49:15.497913",
     "status": "completed"
    },
    "tags": []
   },
   "source": [
    "There are 12 feature columns. Using these features your model has to predict whether the passenger is rescued or not indicated by the column `Transported`."
   ]
  },
  {
   "cell_type": "markdown",
   "id": "e2ce97b3",
   "metadata": {
    "id": "1-Ewr6XDmnjN",
    "papermill": {
     "duration": 0.010431,
     "end_time": "2025-01-10T08:49:15.529413",
     "exception": false,
     "start_time": "2025-01-10T08:49:15.518982",
     "status": "completed"
    },
    "tags": []
   },
   "source": [
    "# Let us quickly do a basic exploration of the dataset"
   ]
  },
  {
   "cell_type": "code",
   "execution_count": 5,
   "id": "d7891012",
   "metadata": {
    "execution": {
     "iopub.execute_input": "2025-01-10T08:49:15.554613Z",
     "iopub.status.busy": "2025-01-10T08:49:15.554228Z",
     "iopub.status.idle": "2025-01-10T08:49:15.593679Z",
     "shell.execute_reply": "2025-01-10T08:49:15.592381Z"
    },
    "id": "XjwG5wjfmnjO",
    "papermill": {
     "duration": 0.055542,
     "end_time": "2025-01-10T08:49:15.596413",
     "exception": false,
     "start_time": "2025-01-10T08:49:15.540871",
     "status": "completed"
    },
    "tags": []
   },
   "outputs": [
    {
     "data": {
      "text/html": [
       "<div>\n",
       "<style scoped>\n",
       "    .dataframe tbody tr th:only-of-type {\n",
       "        vertical-align: middle;\n",
       "    }\n",
       "\n",
       "    .dataframe tbody tr th {\n",
       "        vertical-align: top;\n",
       "    }\n",
       "\n",
       "    .dataframe thead th {\n",
       "        text-align: right;\n",
       "    }\n",
       "</style>\n",
       "<table border=\"1\" class=\"dataframe\">\n",
       "  <thead>\n",
       "    <tr style=\"text-align: right;\">\n",
       "      <th></th>\n",
       "      <th>Age</th>\n",
       "      <th>RoomService</th>\n",
       "      <th>FoodCourt</th>\n",
       "      <th>ShoppingMall</th>\n",
       "      <th>Spa</th>\n",
       "      <th>VRDeck</th>\n",
       "    </tr>\n",
       "  </thead>\n",
       "  <tbody>\n",
       "    <tr>\n",
       "      <th>count</th>\n",
       "      <td>8514.000000</td>\n",
       "      <td>8512.000000</td>\n",
       "      <td>8510.000000</td>\n",
       "      <td>8485.000000</td>\n",
       "      <td>8510.000000</td>\n",
       "      <td>8505.000000</td>\n",
       "    </tr>\n",
       "    <tr>\n",
       "      <th>mean</th>\n",
       "      <td>28.827930</td>\n",
       "      <td>224.687617</td>\n",
       "      <td>458.077203</td>\n",
       "      <td>173.729169</td>\n",
       "      <td>311.138778</td>\n",
       "      <td>304.854791</td>\n",
       "    </tr>\n",
       "    <tr>\n",
       "      <th>std</th>\n",
       "      <td>14.489021</td>\n",
       "      <td>666.717663</td>\n",
       "      <td>1611.489240</td>\n",
       "      <td>604.696458</td>\n",
       "      <td>1136.705535</td>\n",
       "      <td>1145.717189</td>\n",
       "    </tr>\n",
       "    <tr>\n",
       "      <th>min</th>\n",
       "      <td>0.000000</td>\n",
       "      <td>0.000000</td>\n",
       "      <td>0.000000</td>\n",
       "      <td>0.000000</td>\n",
       "      <td>0.000000</td>\n",
       "      <td>0.000000</td>\n",
       "    </tr>\n",
       "    <tr>\n",
       "      <th>25%</th>\n",
       "      <td>19.000000</td>\n",
       "      <td>0.000000</td>\n",
       "      <td>0.000000</td>\n",
       "      <td>0.000000</td>\n",
       "      <td>0.000000</td>\n",
       "      <td>0.000000</td>\n",
       "    </tr>\n",
       "    <tr>\n",
       "      <th>50%</th>\n",
       "      <td>27.000000</td>\n",
       "      <td>0.000000</td>\n",
       "      <td>0.000000</td>\n",
       "      <td>0.000000</td>\n",
       "      <td>0.000000</td>\n",
       "      <td>0.000000</td>\n",
       "    </tr>\n",
       "    <tr>\n",
       "      <th>75%</th>\n",
       "      <td>38.000000</td>\n",
       "      <td>47.000000</td>\n",
       "      <td>76.000000</td>\n",
       "      <td>27.000000</td>\n",
       "      <td>59.000000</td>\n",
       "      <td>46.000000</td>\n",
       "    </tr>\n",
       "    <tr>\n",
       "      <th>max</th>\n",
       "      <td>79.000000</td>\n",
       "      <td>14327.000000</td>\n",
       "      <td>29813.000000</td>\n",
       "      <td>23492.000000</td>\n",
       "      <td>22408.000000</td>\n",
       "      <td>24133.000000</td>\n",
       "    </tr>\n",
       "  </tbody>\n",
       "</table>\n",
       "</div>"
      ],
      "text/plain": [
       "               Age   RoomService     FoodCourt  ShoppingMall           Spa  \\\n",
       "count  8514.000000   8512.000000   8510.000000   8485.000000   8510.000000   \n",
       "mean     28.827930    224.687617    458.077203    173.729169    311.138778   \n",
       "std      14.489021    666.717663   1611.489240    604.696458   1136.705535   \n",
       "min       0.000000      0.000000      0.000000      0.000000      0.000000   \n",
       "25%      19.000000      0.000000      0.000000      0.000000      0.000000   \n",
       "50%      27.000000      0.000000      0.000000      0.000000      0.000000   \n",
       "75%      38.000000     47.000000     76.000000     27.000000     59.000000   \n",
       "max      79.000000  14327.000000  29813.000000  23492.000000  22408.000000   \n",
       "\n",
       "             VRDeck  \n",
       "count   8505.000000  \n",
       "mean     304.854791  \n",
       "std     1145.717189  \n",
       "min        0.000000  \n",
       "25%        0.000000  \n",
       "50%        0.000000  \n",
       "75%       46.000000  \n",
       "max    24133.000000  "
      ]
     },
     "execution_count": 5,
     "metadata": {},
     "output_type": "execute_result"
    }
   ],
   "source": [
    "dataset_df.describe()"
   ]
  },
  {
   "cell_type": "code",
   "execution_count": 6,
   "id": "fa9d31ae",
   "metadata": {
    "execution": {
     "iopub.execute_input": "2025-01-10T08:49:15.621225Z",
     "iopub.status.busy": "2025-01-10T08:49:15.620153Z",
     "iopub.status.idle": "2025-01-10T08:49:15.643896Z",
     "shell.execute_reply": "2025-01-10T08:49:15.642554Z"
    },
    "id": "UmWpnVxQmnjO",
    "papermill": {
     "duration": 0.038753,
     "end_time": "2025-01-10T08:49:15.646386",
     "exception": false,
     "start_time": "2025-01-10T08:49:15.607633",
     "status": "completed"
    },
    "tags": []
   },
   "outputs": [
    {
     "name": "stdout",
     "output_type": "stream",
     "text": [
      "<class 'pandas.core.frame.DataFrame'>\n",
      "RangeIndex: 8693 entries, 0 to 8692\n",
      "Data columns (total 14 columns):\n",
      " #   Column        Non-Null Count  Dtype  \n",
      "---  ------        --------------  -----  \n",
      " 0   PassengerId   8693 non-null   object \n",
      " 1   HomePlanet    8492 non-null   object \n",
      " 2   CryoSleep     8476 non-null   object \n",
      " 3   Cabin         8494 non-null   object \n",
      " 4   Destination   8511 non-null   object \n",
      " 5   Age           8514 non-null   float64\n",
      " 6   VIP           8490 non-null   object \n",
      " 7   RoomService   8512 non-null   float64\n",
      " 8   FoodCourt     8510 non-null   float64\n",
      " 9   ShoppingMall  8485 non-null   float64\n",
      " 10  Spa           8510 non-null   float64\n",
      " 11  VRDeck        8505 non-null   float64\n",
      " 12  Name          8493 non-null   object \n",
      " 13  Transported   8693 non-null   bool   \n",
      "dtypes: bool(1), float64(6), object(7)\n",
      "memory usage: 891.5+ KB\n"
     ]
    }
   ],
   "source": [
    "dataset_df.info()"
   ]
  },
  {
   "cell_type": "markdown",
   "id": "42c39ffa",
   "metadata": {
    "id": "PYbIPVaCmnjO",
    "papermill": {
     "duration": 0.010923,
     "end_time": "2025-01-10T08:49:15.669479",
     "exception": false,
     "start_time": "2025-01-10T08:49:15.658556",
     "status": "completed"
    },
    "tags": []
   },
   "source": [
    "# Bar chart for label column: Transported\n",
    "\n"
   ]
  },
  {
   "cell_type": "code",
   "execution_count": 7,
   "id": "4f64eb81",
   "metadata": {
    "execution": {
     "iopub.execute_input": "2025-01-10T08:49:15.693901Z",
     "iopub.status.busy": "2025-01-10T08:49:15.693135Z",
     "iopub.status.idle": "2025-01-10T08:49:15.949486Z",
     "shell.execute_reply": "2025-01-10T08:49:15.948276Z"
    },
    "id": "DcaGweARmnjP",
    "papermill": {
     "duration": 0.271305,
     "end_time": "2025-01-10T08:49:15.951955",
     "exception": false,
     "start_time": "2025-01-10T08:49:15.680650",
     "status": "completed"
    },
    "tags": []
   },
   "outputs": [
    {
     "data": {
      "text/plain": [
       "<AxesSubplot:>"
      ]
     },
     "execution_count": 7,
     "metadata": {},
     "output_type": "execute_result"
    },
    {
     "data": {
      "image/png": "[encoded data removed]",
      "text/plain": [
       "<Figure size 640x480 with 1 Axes>"
      ]
     },
     "metadata": {},
     "output_type": "display_data"
    }
   ],
   "source": [
    "plot_df = dataset_df[\"Transported\"].value_counts()\n",
    "plot_df.plot(kind=\"bar\")"
   ]
  },
  {
   "cell_type": "markdown",
   "id": "793da466",
   "metadata": {
    "id": "LRO2hJlNmnjP",
    "papermill": {
     "duration": 0.011665,
     "end_time": "2025-01-10T08:49:15.975181",
     "exception": false,
     "start_time": "2025-01-10T08:49:15.963516",
     "status": "completed"
    },
    "tags": []
   },
   "source": [
    "# Numerical data distribution\n",
    "\n",
    "Let us plot all the numerical columns and their value counts:"
   ]
  },
  {
   "cell_type": "code",
   "execution_count": 8,
   "id": "2f30d272",
   "metadata": {
    "execution": {
     "iopub.execute_input": "2025-01-10T08:49:16.000679Z",
     "iopub.status.busy": "2025-01-10T08:49:15.999562Z",
     "iopub.status.idle": "2025-01-10T08:49:17.511367Z",
     "shell.execute_reply": "2025-01-10T08:49:17.510132Z"
    },
    "id": "lafxj4fkmnjQ",
    "papermill": {
     "duration": 1.527488,
     "end_time": "2025-01-10T08:49:17.514205",
     "exception": false,
     "start_time": "2025-01-10T08:49:15.986717",
     "status": "completed"
    },
    "tags": []
   },
   "outputs": [
    {
     "data": {
      "image/png": "[encoded data removed]",
      "text/plain": [
       "<Figure size 1000x1000 with 5 Axes>"
      ]
     },
     "metadata": {},
     "output_type": "display_data"
    }
   ],
   "source": [
    "fig, ax = plt.subplots(5,1,  figsize=(10, 10))\n",
    "plt.subplots_adjust(top = 2)\n",
    "\n",
    "sns.histplot(dataset_df['Age'], color='b', bins=50, ax=ax[0]);\n",
    "sns.histplot(dataset_df['FoodCourt'], color='b', bins=50, ax=ax[1]);\n",
    "sns.histplot(dataset_df['ShoppingMall'], color='b', bins=50, ax=ax[2]);\n",
    "sns.histplot(dataset_df['Spa'], color='b', bins=50, ax=ax[3]);\n",
    "sns.histplot(dataset_df['VRDeck'], color='b', bins=50, ax=ax[4]);"
   ]
  },
  {
   "cell_type": "markdown",
   "id": "a882df28",
   "metadata": {
    "id": "Trlsxv1emnjQ",
    "papermill": {
     "duration": 0.012478,
     "end_time": "2025-01-10T08:49:17.539746",
     "exception": false,
     "start_time": "2025-01-10T08:49:17.527268",
     "status": "completed"
    },
    "tags": []
   },
   "source": [
    "# Prepare the dataset"
   ]
  },
  {
   "cell_type": "markdown",
   "id": "8defcc04",
   "metadata": {
    "id": "c-BLN1jcmnjQ",
    "papermill": {
     "duration": 0.01234,
     "end_time": "2025-01-10T08:49:17.564785",
     "exception": false,
     "start_time": "2025-01-10T08:49:17.552445",
     "status": "completed"
    },
    "tags": []
   },
   "source": [
    "We will drop both `PassengerId` and `Name` columns as they are not necessary for model training."
   ]
  },
  {
   "cell_type": "code",
   "execution_count": 9,
   "id": "54134239",
   "metadata": {
    "execution": {
     "iopub.execute_input": "2025-01-10T08:49:17.592411Z",
     "iopub.status.busy": "2025-01-10T08:49:17.591623Z",
     "iopub.status.idle": "2025-01-10T08:49:17.613683Z",
     "shell.execute_reply": "2025-01-10T08:49:17.612539Z"
    },
    "id": "nftfBG67mnjR",
    "papermill": {
     "duration": 0.038545,
     "end_time": "2025-01-10T08:49:17.616151",
     "exception": false,
     "start_time": "2025-01-10T08:49:17.577606",
     "status": "completed"
    },
    "tags": []
   },
   "outputs": [
    {
     "data": {
      "text/html": [
       "<div>\n",
       "<style scoped>\n",
       "    .dataframe tbody tr th:only-of-type {\n",
       "        vertical-align: middle;\n",
       "    }\n",
       "\n",
       "    .dataframe tbody tr th {\n",
       "        vertical-align: top;\n",
       "    }\n",
       "\n",
       "    .dataframe thead th {\n",
       "        text-align: right;\n",
       "    }\n",
       "</style>\n",
       "<table border=\"1\" class=\"dataframe\">\n",
       "  <thead>\n",
       "    <tr style=\"text-align: right;\">\n",
       "      <th></th>\n",
       "      <th>HomePlanet</th>\n",
       "      <th>CryoSleep</th>\n",
       "      <th>Cabin</th>\n",
       "      <th>Destination</th>\n",
       "      <th>Age</th>\n",
       "      <th>VIP</th>\n",
       "      <th>RoomService</th>\n",
       "      <th>FoodCourt</th>\n",
       "      <th>ShoppingMall</th>\n",
       "      <th>Spa</th>\n",
       "      <th>VRDeck</th>\n",
       "      <th>Transported</th>\n",
       "    </tr>\n",
       "  </thead>\n",
       "  <tbody>\n",
       "    <tr>\n",
       "      <th>0</th>\n",
       "      <td>Europa</td>\n",
       "      <td>False</td>\n",
       "      <td>B/0/P</td>\n",
       "      <td>TRAPPIST-1e</td>\n",
       "      <td>39.0</td>\n",
       "      <td>False</td>\n",
       "      <td>0.0</td>\n",
       "      <td>0.0</td>\n",
       "      <td>0.0</td>\n",
       "      <td>0.0</td>\n",
       "      <td>0.0</td>\n",
       "      <td>False</td>\n",
       "    </tr>\n",
       "    <tr>\n",
       "      <th>1</th>\n",
       "      <td>Earth</td>\n",
       "      <td>False</td>\n",
       "      <td>F/0/S</td>\n",
       "      <td>TRAPPIST-1e</td>\n",
       "      <td>24.0</td>\n",
       "      <td>False</td>\n",
       "      <td>109.0</td>\n",
       "      <td>9.0</td>\n",
       "      <td>25.0</td>\n",
       "      <td>549.0</td>\n",
       "      <td>44.0</td>\n",
       "      <td>True</td>\n",
       "    </tr>\n",
       "    <tr>\n",
       "      <th>2</th>\n",
       "      <td>Europa</td>\n",
       "      <td>False</td>\n",
       "      <td>A/0/S</td>\n",
       "      <td>TRAPPIST-1e</td>\n",
       "      <td>58.0</td>\n",
       "      <td>True</td>\n",
       "      <td>43.0</td>\n",
       "      <td>3576.0</td>\n",
       "      <td>0.0</td>\n",
       "      <td>6715.0</td>\n",
       "      <td>49.0</td>\n",
       "      <td>False</td>\n",
       "    </tr>\n",
       "    <tr>\n",
       "      <th>3</th>\n",
       "      <td>Europa</td>\n",
       "      <td>False</td>\n",
       "      <td>A/0/S</td>\n",
       "      <td>TRAPPIST-1e</td>\n",
       "      <td>33.0</td>\n",
       "      <td>False</td>\n",
       "      <td>0.0</td>\n",
       "      <td>1283.0</td>\n",
       "      <td>371.0</td>\n",
       "      <td>3329.0</td>\n",
       "      <td>193.0</td>\n",
       "      <td>False</td>\n",
       "    </tr>\n",
       "    <tr>\n",
       "      <th>4</th>\n",
       "      <td>Earth</td>\n",
       "      <td>False</td>\n",
       "      <td>F/1/S</td>\n",
       "      <td>TRAPPIST-1e</td>\n",
       "      <td>16.0</td>\n",
       "      <td>False</td>\n",
       "      <td>303.0</td>\n",
       "      <td>70.0</td>\n",
       "      <td>151.0</td>\n",
       "      <td>565.0</td>\n",
       "      <td>2.0</td>\n",
       "      <td>True</td>\n",
       "    </tr>\n",
       "  </tbody>\n",
       "</table>\n",
       "</div>"
      ],
      "text/plain": [
       "  HomePlanet CryoSleep  Cabin  Destination   Age    VIP  RoomService  \\\n",
       "0     Europa     False  B/0/P  TRAPPIST-1e  39.0  False          0.0   \n",
       "1      Earth     False  F/0/S  TRAPPIST-1e  24.0  False        109.0   \n",
       "2     Europa     False  A/0/S  TRAPPIST-1e  58.0   True         43.0   \n",
       "3     Europa     False  A/0/S  TRAPPIST-1e  33.0  False          0.0   \n",
       "4      Earth     False  F/1/S  TRAPPIST-1e  16.0  False        303.0   \n",
       "\n",
       "   FoodCourt  ShoppingMall     Spa  VRDeck  Transported  \n",
       "0        0.0           0.0     0.0     0.0        False  \n",
       "1        9.0          25.0   549.0    44.0         True  \n",
       "2     3576.0           0.0  6715.0    49.0        False  \n",
       "3     1283.0         371.0  3329.0   193.0        False  \n",
       "4       70.0         151.0   565.0     2.0         True  "
      ]
     },
     "execution_count": 9,
     "metadata": {},
     "output_type": "execute_result"
    }
   ],
   "source": [
    "dataset_df = dataset_df.drop(['PassengerId', 'Name'], axis=1)\n",
    "dataset_df.head(5)"
   ]
  },
  {
   "cell_type": "markdown",
   "id": "a950c7a6",
   "metadata": {
    "id": "pXhbIKCemnjR",
    "papermill": {
     "duration": 0.012638,
     "end_time": "2025-01-10T08:49:17.642097",
     "exception": false,
     "start_time": "2025-01-10T08:49:17.629459",
     "status": "completed"
    },
    "tags": []
   },
   "source": [
    "We will check for the missing values using the following code:"
   ]
  },
  {
   "cell_type": "code",
   "execution_count": 10,
   "id": "a329274b",
   "metadata": {
    "execution": {
     "iopub.execute_input": "2025-01-10T08:49:17.670506Z",
     "iopub.status.busy": "2025-01-10T08:49:17.669515Z",
     "iopub.status.idle": "2025-01-10T08:49:17.682578Z",
     "shell.execute_reply": "2025-01-10T08:49:17.681594Z"
    },
    "id": "3_VMZ9a1mnjR",
    "papermill": {
     "duration": 0.029738,
     "end_time": "2025-01-10T08:49:17.684879",
     "exception": false,
     "start_time": "2025-01-10T08:49:17.655141",
     "status": "completed"
    },
    "tags": []
   },
   "outputs": [
    {
     "data": {
      "text/plain": [
       "CryoSleep       217\n",
       "ShoppingMall    208\n",
       "VIP             203\n",
       "HomePlanet      201\n",
       "Cabin           199\n",
       "VRDeck          188\n",
       "FoodCourt       183\n",
       "Spa             183\n",
       "Destination     182\n",
       "RoomService     181\n",
       "Age             179\n",
       "Transported       0\n",
       "dtype: int64"
      ]
     },
     "execution_count": 10,
     "metadata": {},
     "output_type": "execute_result"
    }
   ],
   "source": [
    "dataset_df.isnull().sum().sort_values(ascending=False)"
   ]
  },
  {
   "cell_type": "markdown",
   "id": "deba401a",
   "metadata": {
    "papermill": {
     "duration": 0.012725,
     "end_time": "2025-01-10T08:49:17.710873",
     "exception": false,
     "start_time": "2025-01-10T08:49:17.698148",
     "status": "completed"
    },
    "tags": []
   },
   "source": [
    "Random Forests in general (including traditional implementations like those in Scikit-learn) do not inherently handle categorical, nominal, and ordinal data without encoding. Missing values also typically require preprocessing. However, some advanced implementations, such as **TensorFlow Decision Forests (TFDF)** and **H2O.ai Random Forests**, offer more flexibility and support for handling these cases. Here's a breakdown:\n",
    "\n",
    "---\n",
    "\n",
    "### **1. Handling Categorical, Nominal, and Ordinal Data**\n",
    "\n",
    "#### Traditional Random Forests (e.g., Scikit-learn):\n",
    "- **Categorical Data**: Needs to be encoded (e.g., one-hot encoding or label encoding).\n",
    "- **Nominal Data**:\n",
    "  - Treated as categorical and requires similar encoding methods.\n",
    "  - One-hot encoding is common but can increase dimensionality.\n",
    "- **Ordinal Data**:\n",
    "  - Can use label encoding if the ordinal relationship is meaningful (e.g., `low < medium < high`).\n",
    "  - If ordinal relationships are not encoded correctly, the model may misinterpret the order.\n",
    "\n",
    "#### TensorFlow Decision Forests:\n",
    "- **Native Categorical Support**:\n",
    "  - TFDF can handle categorical data natively without explicit encoding.\n",
    "  - Simply provide the data in its raw categorical form (e.g., string or integer categories).\n",
    "  - Example:\n",
    "\n",
    "---\n",
    "\n",
    "### **2. Handling Missing Values**\n",
    "\n",
    "#### Traditional Random Forests:\n",
    "- **Missing Values Must Be Handled**:\n",
    "  - Random Forests in Scikit-learn do not natively handle missing values.\n",
    "  - Preprocessing is required:\n",
    "    - **Imputation**: Replace missing values with mean, median, mode, or predictions from a simple model.\n",
    "    - **Drop Missing Values**: Remove rows or columns with missing values, though this can result in data loss.\n",
    "\n",
    "#### TensorFlow Decision Forests:\n",
    "- **Native Support for Missing Values**:\n",
    "  - TFDF can handle missing values without explicit preprocessing.\n",
    "  - Missing values are treated as a separate category for categorical features or interpolated for numerical features.\n",
    "  - This allows the model to work directly with raw data.\n",
    "\n",
    "---\n",
    "\n",
    "### **Summary Table**\n",
    "\n",
    "| Feature               | Scikit-learn Random Forest | TensorFlow Decision Forests |\n",
    "|-----------------------|----------------------------|-----------------------------|\n",
    "| Categorical Data      | Requires encoding         | Handled natively           |\n",
    "| Nominal Data          | Requires encoding         | Handled natively           |\n",
    "| Ordinal Data          | Encoding with care needed | Handled natively           |\n",
    "| Missing Values        | Requires preprocessing    | Handled natively           |\n",
    "\n",
    "---\n",
    "\n",
    "### **Key Considerations**\n",
    "- If you're working with Scikit-learn or other traditional implementations:\n",
    "  - Use libraries like `SimpleImputer` or `KNNImputer` for missing values.\n",
    "  - Use `OneHotEncoder` or `OrdinalEncoder` for categorical data.\n",
    "- If you want a model that handles these aspects automatically:\n",
    "  - Consider using TensorFlow Decision Forests, H2O.ai, or other frameworks with native support.\n",
    "\n",
    "This approach simplifies handling raw, messy datasets without requiring heavy preprocessing."
   ]
  },
  {
   "cell_type": "markdown",
   "id": "4efb9062",
   "metadata": {
    "id": "vlWOQl4fmnjS",
    "papermill": {
     "duration": 0.012807,
     "end_time": "2025-01-10T08:49:17.736777",
     "exception": false,
     "start_time": "2025-01-10T08:49:17.723970",
     "status": "completed"
    },
    "tags": []
   },
   "source": [
    "This dataset contains a mix of numeric, categorical and missing features. TF-DF supports all these feature types natively, and no preprocessing is required.\n",
    "\n",
    "But this datatset also has boolean fields with missing values. TF-DF doesn't support boolean fields yet. So we need to convert those fields into int. To account for the missing values in the boolean fields, we will replace them with zero.\n",
    "\n",
    "In this notebook, we will replace null value entries with zero for numerical columns as well and only let TF-DF handle the missing values in categorical columns.\n",
    "\n",
    "Note: You can choose to let TF-DF handle missing values in numerical columns if need be."
   ]
  },
  {
   "cell_type": "code",
   "execution_count": 11,
   "id": "f01c108d",
   "metadata": {
    "execution": {
     "iopub.execute_input": "2025-01-10T08:49:17.764935Z",
     "iopub.status.busy": "2025-01-10T08:49:17.764126Z",
     "iopub.status.idle": "2025-01-10T08:49:18.188534Z",
     "shell.execute_reply": "2025-01-10T08:49:18.187479Z"
    },
    "papermill": {
     "duration": 0.441546,
     "end_time": "2025-01-10T08:49:18.191315",
     "exception": false,
     "start_time": "2025-01-10T08:49:17.749769",
     "status": "completed"
    },
    "tags": []
   },
   "outputs": [],
   "source": [
    "from sklearn.impute import KNNImputer"
   ]
  },
  {
   "cell_type": "code",
   "execution_count": 12,
   "id": "65e518c6",
   "metadata": {
    "execution": {
     "iopub.execute_input": "2025-01-10T08:49:18.219647Z",
     "iopub.status.busy": "2025-01-10T08:49:18.219259Z",
     "iopub.status.idle": "2025-01-10T08:49:18.224800Z",
     "shell.execute_reply": "2025-01-10T08:49:18.223640Z"
    },
    "papermill": {
     "duration": 0.022559,
     "end_time": "2025-01-10T08:49:18.227148",
     "exception": false,
     "start_time": "2025-01-10T08:49:18.204589",
     "status": "completed"
    },
    "tags": []
   },
   "outputs": [],
   "source": [
    "imputer = KNNImputer(n_neighbors=8)"
   ]
  },
  {
   "cell_type": "code",
   "execution_count": 13,
   "id": "ea3218d9",
   "metadata": {
    "execution": {
     "iopub.execute_input": "2025-01-10T08:49:18.255371Z",
     "iopub.status.busy": "2025-01-10T08:49:18.254987Z",
     "iopub.status.idle": "2025-01-10T08:49:18.938784Z",
     "shell.execute_reply": "2025-01-10T08:49:18.937716Z"
    },
    "papermill": {
     "duration": 0.701262,
     "end_time": "2025-01-10T08:49:18.941698",
     "exception": false,
     "start_time": "2025-01-10T08:49:18.240436",
     "status": "completed"
    },
    "tags": []
   },
   "outputs": [],
   "source": [
    "# Apply the imputer to the data\n",
    "dataset_df[['VIP', 'CryoSleep', 'FoodCourt', 'ShoppingMall', 'Spa', 'VRDeck']] = pd.DataFrame(imputer.fit_transform(dataset_df[['VIP', 'CryoSleep', 'FoodCourt', 'ShoppingMall', 'Spa', 'VRDeck']]), columns=['VIP', 'CryoSleep', 'FoodCourt', 'ShoppingMall', 'Spa', 'VRDeck'])"
   ]
  },
  {
   "cell_type": "code",
   "execution_count": 14,
   "id": "ae18eff9",
   "metadata": {
    "execution": {
     "iopub.execute_input": "2025-01-10T08:49:18.970502Z",
     "iopub.status.busy": "2025-01-10T08:49:18.970079Z",
     "iopub.status.idle": "2025-01-10T08:49:18.982792Z",
     "shell.execute_reply": "2025-01-10T08:49:18.981666Z"
    },
    "papermill": {
     "duration": 0.029888,
     "end_time": "2025-01-10T08:49:18.985201",
     "exception": false,
     "start_time": "2025-01-10T08:49:18.955313",
     "status": "completed"
    },
    "tags": []
   },
   "outputs": [
    {
     "data": {
      "text/plain": [
       "HomePlanet      201\n",
       "Cabin           199\n",
       "Destination     182\n",
       "RoomService     181\n",
       "Age             179\n",
       "CryoSleep         0\n",
       "VIP               0\n",
       "FoodCourt         0\n",
       "ShoppingMall      0\n",
       "Spa               0\n",
       "VRDeck            0\n",
       "Transported       0\n",
       "dtype: int64"
      ]
     },
     "execution_count": 14,
     "metadata": {},
     "output_type": "execute_result"
    }
   ],
   "source": [
    "dataset_df.isnull().sum().sort_values(ascending=False)"
   ]
  },
  {
   "cell_type": "code",
   "execution_count": 15,
   "id": "8b5316ce",
   "metadata": {
    "execution": {
     "iopub.execute_input": "2025-01-10T08:49:19.013705Z",
     "iopub.status.busy": "2025-01-10T08:49:19.013321Z",
     "iopub.status.idle": "2025-01-10T08:49:19.018763Z",
     "shell.execute_reply": "2025-01-10T08:49:19.017761Z"
    },
    "id": "ASQ5Bh2JmnjS",
    "papermill": {
     "duration": 0.022702,
     "end_time": "2025-01-10T08:49:19.021280",
     "exception": false,
     "start_time": "2025-01-10T08:49:18.998578",
     "status": "completed"
    },
    "tags": []
   },
   "outputs": [],
   "source": [
    "# dataset_df[['VIP', 'CryoSleep', 'FoodCourt', 'ShoppingMall', 'Spa', 'VRDeck']] = dataset_df[['VIP', 'CryoSleep', 'FoodCourt', 'ShoppingMall', 'Spa', 'VRDeck']].fillna(value=0)\n",
    "# dataset_df.isnull().sum().sort_values(ascending=False)"
   ]
  },
  {
   "cell_type": "markdown",
   "id": "9b6b4d69",
   "metadata": {
    "id": "tFbE6D0BmnjT",
    "papermill": {
     "duration": 0.012868,
     "end_time": "2025-01-10T08:49:19.047370",
     "exception": false,
     "start_time": "2025-01-10T08:49:19.034502",
     "status": "completed"
    },
    "tags": []
   },
   "source": [
    "Since, TF-DF cannot handle boolean columns, we will have to adjust the labels in column `Transported` to convert them into the integer format that TF-DF expects."
   ]
  },
  {
   "cell_type": "code",
   "execution_count": 16,
   "id": "08fc56e4",
   "metadata": {
    "execution": {
     "iopub.execute_input": "2025-01-10T08:49:19.076510Z",
     "iopub.status.busy": "2025-01-10T08:49:19.075696Z",
     "iopub.status.idle": "2025-01-10T08:49:19.082110Z",
     "shell.execute_reply": "2025-01-10T08:49:19.080888Z"
    },
    "id": "-T6a_RTxmnjT",
    "papermill": {
     "duration": 0.023999,
     "end_time": "2025-01-10T08:49:19.084559",
     "exception": false,
     "start_time": "2025-01-10T08:49:19.060560",
     "status": "completed"
    },
    "tags": []
   },
   "outputs": [],
   "source": [
    "label = \"Transported\"\n",
    "dataset_df[label] = dataset_df[label].astype(int)"
   ]
  },
  {
   "cell_type": "markdown",
   "id": "d8553ac4",
   "metadata": {
    "id": "F6-GATuzmnjU",
    "papermill": {
     "duration": 0.012788,
     "end_time": "2025-01-10T08:49:19.110671",
     "exception": false,
     "start_time": "2025-01-10T08:49:19.097883",
     "status": "completed"
    },
    "tags": []
   },
   "source": [
    "We will also convert the boolean fields `CryoSleep` and `VIP` to int."
   ]
  },
  {
   "cell_type": "code",
   "execution_count": 17,
   "id": "e4d8b944",
   "metadata": {
    "execution": {
     "iopub.execute_input": "2025-01-10T08:49:19.139416Z",
     "iopub.status.busy": "2025-01-10T08:49:19.138498Z",
     "iopub.status.idle": "2025-01-10T08:49:19.145614Z",
     "shell.execute_reply": "2025-01-10T08:49:19.144392Z"
    },
    "id": "Wq6PbMnnmnjU",
    "papermill": {
     "duration": 0.023997,
     "end_time": "2025-01-10T08:49:19.147875",
     "exception": false,
     "start_time": "2025-01-10T08:49:19.123878",
     "status": "completed"
    },
    "tags": []
   },
   "outputs": [],
   "source": [
    "dataset_df['VIP'] = dataset_df['VIP'].astype(int)\n",
    "dataset_df['CryoSleep'] = dataset_df['CryoSleep'].astype(int)"
   ]
  },
  {
   "cell_type": "markdown",
   "id": "4f145fb5",
   "metadata": {
    "id": "enjp51h_mnjV",
    "papermill": {
     "duration": 0.012905,
     "end_time": "2025-01-10T08:49:19.174186",
     "exception": false,
     "start_time": "2025-01-10T08:49:19.161281",
     "status": "completed"
    },
    "tags": []
   },
   "source": [
    "The value of column `Cabin` is a string with the format `Deck/Cabin_num/Side`. Here we will split the `Cabin` column and create 3 new columns `Deck`, `Cabin_num` and `Side`, since it will be easier to train the model on those individual data.\n",
    "\n",
    "Run the following command to split the column `Cabin` into columns `Deck`, `Cabin_num` and `Side`"
   ]
  },
  {
   "cell_type": "code",
   "execution_count": 18,
   "id": "b06ca949",
   "metadata": {
    "execution": {
     "iopub.execute_input": "2025-01-10T08:49:19.203244Z",
     "iopub.status.busy": "2025-01-10T08:49:19.202290Z",
     "iopub.status.idle": "2025-01-10T08:49:19.222434Z",
     "shell.execute_reply": "2025-01-10T08:49:19.221328Z"
    },
    "id": "JeAuUvb_mnjV",
    "papermill": {
     "duration": 0.037252,
     "end_time": "2025-01-10T08:49:19.224872",
     "exception": false,
     "start_time": "2025-01-10T08:49:19.187620",
     "status": "completed"
    },
    "tags": []
   },
   "outputs": [],
   "source": [
    "dataset_df[[\"Deck\", \"Cabin_num\", \"Side\"]] = dataset_df[\"Cabin\"].str.split(\"/\", expand=True)"
   ]
  },
  {
   "cell_type": "markdown",
   "id": "60d88736",
   "metadata": {
    "id": "vNYEd1AkmnjV",
    "papermill": {
     "duration": 0.012986,
     "end_time": "2025-01-10T08:49:19.251502",
     "exception": false,
     "start_time": "2025-01-10T08:49:19.238516",
     "status": "completed"
    },
    "tags": []
   },
   "source": [
    "Remove original `Cabin` column from the dataset since it's not needed anymore."
   ]
  },
  {
   "cell_type": "code",
   "execution_count": 19,
   "id": "238ae364",
   "metadata": {
    "execution": {
     "iopub.execute_input": "2025-01-10T08:49:19.280277Z",
     "iopub.status.busy": "2025-01-10T08:49:19.279392Z",
     "iopub.status.idle": "2025-01-10T08:49:19.288380Z",
     "shell.execute_reply": "2025-01-10T08:49:19.287377Z"
    },
    "id": "dOcny3s4mnjV",
    "papermill": {
     "duration": 0.026166,
     "end_time": "2025-01-10T08:49:19.290846",
     "exception": false,
     "start_time": "2025-01-10T08:49:19.264680",
     "status": "completed"
    },
    "tags": []
   },
   "outputs": [],
   "source": [
    "try:\n",
    "    dataset_df = dataset_df.drop('Cabin', axis=1)\n",
    "except KeyError:\n",
    "    print(\"Field does not exist\")"
   ]
  },
  {
   "cell_type": "markdown",
   "id": "9ef153b6",
   "metadata": {
    "id": "Y7byxj5FmnjW",
    "papermill": {
     "duration": 0.012908,
     "end_time": "2025-01-10T08:49:19.317671",
     "exception": false,
     "start_time": "2025-01-10T08:49:19.304763",
     "status": "completed"
    },
    "tags": []
   },
   "source": [
    "Let us display the first 5 examples from the prepared dataset."
   ]
  },
  {
   "cell_type": "code",
   "execution_count": 20,
   "id": "3999ee3b",
   "metadata": {
    "execution": {
     "iopub.execute_input": "2025-01-10T08:49:19.346654Z",
     "iopub.status.busy": "2025-01-10T08:49:19.345650Z",
     "iopub.status.idle": "2025-01-10T08:49:19.365050Z",
     "shell.execute_reply": "2025-01-10T08:49:19.363812Z"
    },
    "id": "g0U1OKAYmnjW",
    "papermill": {
     "duration": 0.036553,
     "end_time": "2025-01-10T08:49:19.367524",
     "exception": false,
     "start_time": "2025-01-10T08:49:19.330971",
     "status": "completed"
    },
    "tags": []
   },
   "outputs": [
    {
     "data": {
      "text/html": [
       "<div>\n",
       "<style scoped>\n",
       "    .dataframe tbody tr th:only-of-type {\n",
       "        vertical-align: middle;\n",
       "    }\n",
       "\n",
       "    .dataframe tbody tr th {\n",
       "        vertical-align: top;\n",
       "    }\n",
       "\n",
       "    .dataframe thead th {\n",
       "        text-align: right;\n",
       "    }\n",
       "</style>\n",
       "<table border=\"1\" class=\"dataframe\">\n",
       "  <thead>\n",
       "    <tr style=\"text-align: right;\">\n",
       "      <th></th>\n",
       "      <th>HomePlanet</th>\n",
       "      <th>CryoSleep</th>\n",
       "      <th>Destination</th>\n",
       "      <th>Age</th>\n",
       "      <th>VIP</th>\n",
       "      <th>RoomService</th>\n",
       "      <th>FoodCourt</th>\n",
       "      <th>ShoppingMall</th>\n",
       "      <th>Spa</th>\n",
       "      <th>VRDeck</th>\n",
       "      <th>Transported</th>\n",
       "      <th>Deck</th>\n",
       "      <th>Cabin_num</th>\n",
       "      <th>Side</th>\n",
       "    </tr>\n",
       "  </thead>\n",
       "  <tbody>\n",
       "    <tr>\n",
       "      <th>0</th>\n",
       "      <td>Europa</td>\n",
       "      <td>0</td>\n",
       "      <td>TRAPPIST-1e</td>\n",
       "      <td>39.0</td>\n",
       "      <td>0</td>\n",
       "      <td>0.0</td>\n",
       "      <td>0.0</td>\n",
       "      <td>0.0</td>\n",
       "      <td>0.0</td>\n",
       "      <td>0.0</td>\n",
       "      <td>0</td>\n",
       "      <td>B</td>\n",
       "      <td>0</td>\n",
       "      <td>P</td>\n",
       "    </tr>\n",
       "    <tr>\n",
       "      <th>1</th>\n",
       "      <td>Earth</td>\n",
       "      <td>0</td>\n",
       "      <td>TRAPPIST-1e</td>\n",
       "      <td>24.0</td>\n",
       "      <td>0</td>\n",
       "      <td>109.0</td>\n",
       "      <td>9.0</td>\n",
       "      <td>25.0</td>\n",
       "      <td>549.0</td>\n",
       "      <td>44.0</td>\n",
       "      <td>1</td>\n",
       "      <td>F</td>\n",
       "      <td>0</td>\n",
       "      <td>S</td>\n",
       "    </tr>\n",
       "    <tr>\n",
       "      <th>2</th>\n",
       "      <td>Europa</td>\n",
       "      <td>0</td>\n",
       "      <td>TRAPPIST-1e</td>\n",
       "      <td>58.0</td>\n",
       "      <td>1</td>\n",
       "      <td>43.0</td>\n",
       "      <td>3576.0</td>\n",
       "      <td>0.0</td>\n",
       "      <td>6715.0</td>\n",
       "      <td>49.0</td>\n",
       "      <td>0</td>\n",
       "      <td>A</td>\n",
       "      <td>0</td>\n",
       "      <td>S</td>\n",
       "    </tr>\n",
       "    <tr>\n",
       "      <th>3</th>\n",
       "      <td>Europa</td>\n",
       "      <td>0</td>\n",
       "      <td>TRAPPIST-1e</td>\n",
       "      <td>33.0</td>\n",
       "      <td>0</td>\n",
       "      <td>0.0</td>\n",
       "      <td>1283.0</td>\n",
       "      <td>371.0</td>\n",
       "      <td>3329.0</td>\n",
       "      <td>193.0</td>\n",
       "      <td>0</td>\n",
       "      <td>A</td>\n",
       "      <td>0</td>\n",
       "      <td>S</td>\n",
       "    </tr>\n",
       "    <tr>\n",
       "      <th>4</th>\n",
       "      <td>Earth</td>\n",
       "      <td>0</td>\n",
       "      <td>TRAPPIST-1e</td>\n",
       "      <td>16.0</td>\n",
       "      <td>0</td>\n",
       "      <td>303.0</td>\n",
       "      <td>70.0</td>\n",
       "      <td>151.0</td>\n",
       "      <td>565.0</td>\n",
       "      <td>2.0</td>\n",
       "      <td>1</td>\n",
       "      <td>F</td>\n",
       "      <td>1</td>\n",
       "      <td>S</td>\n",
       "    </tr>\n",
       "  </tbody>\n",
       "</table>\n",
       "</div>"
      ],
      "text/plain": [
       "  HomePlanet  CryoSleep  Destination   Age  VIP  RoomService  FoodCourt  \\\n",
       "0     Europa          0  TRAPPIST-1e  39.0    0          0.0        0.0   \n",
       "1      Earth          0  TRAPPIST-1e  24.0    0        109.0        9.0   \n",
       "2     Europa          0  TRAPPIST-1e  58.0    1         43.0     3576.0   \n",
       "3     Europa          0  TRAPPIST-1e  33.0    0          0.0     1283.0   \n",
       "4      Earth          0  TRAPPIST-1e  16.0    0        303.0       70.0   \n",
       "\n",
       "   ShoppingMall     Spa  VRDeck  Transported Deck Cabin_num Side  \n",
       "0           0.0     0.0     0.0            0    B         0    P  \n",
       "1          25.0   549.0    44.0            1    F         0    S  \n",
       "2           0.0  6715.0    49.0            0    A         0    S  \n",
       "3         371.0  3329.0   193.0            0    A         0    S  \n",
       "4         151.0   565.0     2.0            1    F         1    S  "
      ]
     },
     "execution_count": 20,
     "metadata": {},
     "output_type": "execute_result"
    }
   ],
   "source": [
    "dataset_df.head(5)"
   ]
  },
  {
   "cell_type": "markdown",
   "id": "a97150af",
   "metadata": {
    "id": "l6EmJsSfmnjW",
    "papermill": {
     "duration": 0.013155,
     "end_time": "2025-01-10T08:49:19.394674",
     "exception": false,
     "start_time": "2025-01-10T08:49:19.381519",
     "status": "completed"
    },
    "tags": []
   },
   "source": [
    "Now let us split the dataset into training and testing datasets:"
   ]
  },
  {
   "cell_type": "code",
   "execution_count": 21,
   "id": "1069f4ec",
   "metadata": {
    "execution": {
     "iopub.execute_input": "2025-01-10T08:49:19.423422Z",
     "iopub.status.busy": "2025-01-10T08:49:19.423015Z",
     "iopub.status.idle": "2025-01-10T08:49:19.433125Z",
     "shell.execute_reply": "2025-01-10T08:49:19.431779Z"
    },
    "id": "_drMgwAAmnjX",
    "papermill": {
     "duration": 0.027425,
     "end_time": "2025-01-10T08:49:19.435587",
     "exception": false,
     "start_time": "2025-01-10T08:49:19.408162",
     "status": "completed"
    },
    "tags": []
   },
   "outputs": [
    {
     "name": "stdout",
     "output_type": "stream",
     "text": [
      "6951 examples in training, 1742 examples in testing.\n"
     ]
    }
   ],
   "source": [
    "def split_dataset(dataset, test_ratio=0.20):\n",
    "  test_indices = np.random.rand(len(dataset)) < test_ratio\n",
    "  return dataset[~test_indices], dataset[test_indices]\n",
    "\n",
    "train_ds_pd, valid_ds_pd = split_dataset(dataset_df)\n",
    "print(\"{} examples in training, {} examples in testing.\".format(\n",
    "    len(train_ds_pd), len(valid_ds_pd)))"
   ]
  },
  {
   "cell_type": "markdown",
   "id": "d57c4dae",
   "metadata": {
    "id": "_gg4nfB1mnjX",
    "papermill": {
     "duration": 0.013766,
     "end_time": "2025-01-10T08:49:19.463782",
     "exception": false,
     "start_time": "2025-01-10T08:49:19.450016",
     "status": "completed"
    },
    "tags": []
   },
   "source": [
    "There's one more step required before we can train the model. We need to convert the datatset from Pandas format (`pd.DataFrame`) into TensorFlow Datasets format (`tf.data.Dataset`).\n",
    "\n",
    "[TensorFlow Datasets](https://www.tensorflow.org/datasets/overview) is a high performance data loading library which is helpful when training neural networks with accelerators like GPUs and TPUs."
   ]
  },
  {
   "cell_type": "code",
   "execution_count": 22,
   "id": "e9052cbf",
   "metadata": {
    "execution": {
     "iopub.execute_input": "2025-01-10T08:49:19.495481Z",
     "iopub.status.busy": "2025-01-10T08:49:19.494786Z",
     "iopub.status.idle": "2025-01-10T08:49:19.650674Z",
     "shell.execute_reply": "2025-01-10T08:49:19.649529Z"
    },
    "id": "LZADOplXmnjX",
    "papermill": {
     "duration": 0.1738,
     "end_time": "2025-01-10T08:49:19.653418",
     "exception": false,
     "start_time": "2025-01-10T08:49:19.479618",
     "status": "completed"
    },
    "tags": []
   },
   "outputs": [],
   "source": [
    "train_ds = tfdf.keras.pd_dataframe_to_tf_dataset(train_ds_pd, label=label)\n",
    "valid_ds = tfdf.keras.pd_dataframe_to_tf_dataset(valid_ds_pd, label=label)"
   ]
  },
  {
   "cell_type": "markdown",
   "id": "47771e45",
   "metadata": {
    "id": "0-xUiOTwmnjY",
    "papermill": {
     "duration": 0.013233,
     "end_time": "2025-01-10T08:49:19.680166",
     "exception": false,
     "start_time": "2025-01-10T08:49:19.666933",
     "status": "completed"
    },
    "tags": []
   },
   "source": [
    "# Select a Model\n",
    "\n",
    "There are several tree-based models for you to choose from.\n",
    "\n",
    "* RandomForestModel\n",
    "* GradientBoostedTreesModel\n",
    "* CartModel\n",
    "* DistributedGradientBoostedTreesModel\n",
    "\n",
    "To start, we'll work with a Random Forest. This is the most well-known of the Decision Forest training algorithms.\n",
    "\n",
    "A Random Forest is a collection of decision trees, each trained independently on a random subset of the training dataset (sampled with replacement). The algorithm is unique in that it is robust to overfitting, and easy to use.\n",
    "\n",
    "We can list the all the available models in TensorFlow Decision Forests using the following code:"
   ]
  },
  {
   "cell_type": "code",
   "execution_count": 23,
   "id": "e0a5c766",
   "metadata": {
    "execution": {
     "iopub.execute_input": "2025-01-10T08:49:19.708889Z",
     "iopub.status.busy": "2025-01-10T08:49:19.708510Z",
     "iopub.status.idle": "2025-01-10T08:49:19.716031Z",
     "shell.execute_reply": "2025-01-10T08:49:19.714916Z"
    },
    "id": "PdQw1cWbmnjY",
    "papermill": {
     "duration": 0.024755,
     "end_time": "2025-01-10T08:49:19.718367",
     "exception": false,
     "start_time": "2025-01-10T08:49:19.693612",
     "status": "completed"
    },
    "tags": []
   },
   "outputs": [
    {
     "data": {
      "text/plain": [
       "[tensorflow_decision_forests.keras.RandomForestModel,\n",
       " tensorflow_decision_forests.keras.GradientBoostedTreesModel,\n",
       " tensorflow_decision_forests.keras.CartModel,\n",
       " tensorflow_decision_forests.keras.DistributedGradientBoostedTreesModel]"
      ]
     },
     "execution_count": 23,
     "metadata": {},
     "output_type": "execute_result"
    }
   ],
   "source": [
    "tfdf.keras.get_all_models()"
   ]
  },
  {
   "cell_type": "markdown",
   "id": "20f31da8",
   "metadata": {
    "id": "sy81fpfxmnjY",
    "papermill": {
     "duration": 0.013286,
     "end_time": "2025-01-10T08:49:19.745399",
     "exception": false,
     "start_time": "2025-01-10T08:49:19.732113",
     "status": "completed"
    },
    "tags": []
   },
   "source": [
    "# Configure the model\n",
    "\n",
    "TensorFlow Decision Forests provides good defaults for you (e.g. the top ranking hyperparameters on our benchmarks, slightly modified to run in reasonable time). If you would like to configure the learning algorithm, you will find many options you can explore to get the highest possible accuracy.\n",
    "\n",
    "You can select a template and/or set parameters as follows:\n",
    "\n",
    "```rf = tfdf.keras.RandomForestModel(hyperparameter_template=\"benchmark_rank1\")```\n",
    "\n",
    "Read more [here](https://www.tensorflow.org/decision_forests/api_docs/python/tfdf/keras/RandomForestModel)."
   ]
  },
  {
   "cell_type": "markdown",
   "id": "e82b7b8b",
   "metadata": {
    "id": "AfJMCA6lmnjZ",
    "papermill": {
     "duration": 0.013172,
     "end_time": "2025-01-10T08:49:19.772897",
     "exception": false,
     "start_time": "2025-01-10T08:49:19.759725",
     "status": "completed"
    },
    "tags": []
   },
   "source": [
    "# Create a Random Forest\n",
    "\n",
    "Today, we will use the defaults to create the Random Forest Model. By default the model is set to train for a classification task."
   ]
  },
  {
   "cell_type": "code",
   "execution_count": 24,
   "id": "4d2129aa",
   "metadata": {
    "execution": {
     "iopub.execute_input": "2025-01-10T08:49:19.801792Z",
     "iopub.status.busy": "2025-01-10T08:49:19.801081Z",
     "iopub.status.idle": "2025-01-10T08:49:19.853302Z",
     "shell.execute_reply": "2025-01-10T08:49:19.851877Z"
    },
    "id": "j7-gFVDNmnjZ",
    "papermill": {
     "duration": 0.069786,
     "end_time": "2025-01-10T08:49:19.856114",
     "exception": false,
     "start_time": "2025-01-10T08:49:19.786328",
     "status": "completed"
    },
    "tags": []
   },
   "outputs": [
    {
     "name": "stdout",
     "output_type": "stream",
     "text": [
      "Use /tmp/tmph0k4kzay as temporary training directory\n"
     ]
    }
   ],
   "source": [
    "rf = tfdf.keras.RandomForestModel()\n",
    "rf.compile(metrics=[\"accuracy\"]) # Optional, you can use this to include a list of eval metrics"
   ]
  },
  {
   "cell_type": "markdown",
   "id": "e7c7bab5",
   "metadata": {
    "id": "wEQXtv4MmnjZ",
    "papermill": {
     "duration": 0.013763,
     "end_time": "2025-01-10T08:49:19.883677",
     "exception": false,
     "start_time": "2025-01-10T08:49:19.869914",
     "status": "completed"
    },
    "tags": []
   },
   "source": [
    "# Train the model\n",
    "\n",
    "We will train the model using a one-liner.\n",
    "\n",
    "Note: you may see a warning about Autograph. You can safely ignore this, it will be fixed in the next release."
   ]
  },
  {
   "cell_type": "code",
   "execution_count": 25,
   "id": "6d453729",
   "metadata": {
    "execution": {
     "iopub.execute_input": "2025-01-10T08:49:19.912704Z",
     "iopub.status.busy": "2025-01-10T08:49:19.912324Z",
     "iopub.status.idle": "2025-01-10T08:50:21.994612Z",
     "shell.execute_reply": "2025-01-10T08:50:21.993279Z"
    },
    "id": "QcL5KRyLmnja",
    "papermill": {
     "duration": 62.099825,
     "end_time": "2025-01-10T08:50:21.997142",
     "exception": false,
     "start_time": "2025-01-10T08:49:19.897317",
     "status": "completed"
    },
    "tags": []
   },
   "outputs": [
    {
     "name": "stdout",
     "output_type": "stream",
     "text": [
      "Reading training dataset...\n",
      "Training dataset read in 0:00:05.371529. Found 6951 examples.\n",
      "Training model...\n"
     ]
    },
    {
     "name": "stderr",
     "output_type": "stream",
     "text": [
      "[INFO 2025-01-10T08:50:18.631539876+00:00 kernel.cc:1214] Loading model from path /tmp/tmph0k4kzay/model/ with prefix cdea4d6e89ae4055\n"
     ]
    },
    {
     "name": "stdout",
     "output_type": "stream",
     "text": [
      "Model trained in 0:00:54.625346\n",
      "Compiling model...\n"
     ]
    },
    {
     "name": "stderr",
     "output_type": "stream",
     "text": [
      "[INFO 2025-01-10T08:50:19.816788301+00:00 decision_forest.cc:661] Model loaded with 300 root(s), 233716 node(s), and 13 input feature(s).\n",
      "[INFO 2025-01-10T08:50:19.816845668+00:00 abstract_model.cc:1311] Engine \"RandomForestGeneric\" built\n",
      "[INFO 2025-01-10T08:50:19.816892253+00:00 kernel.cc:1046] Use fast generic engine\n"
     ]
    },
    {
     "name": "stdout",
     "output_type": "stream",
     "text": [
      "WARNING: AutoGraph could not transform <function simple_ml_inference_op_with_handle at 0x7fcf92c57ef0> and will run it as-is.\n",
      "Please report this to the TensorFlow team. When filing the bug, set the verbosity to 10 (on Linux, `export AUTOGRAPH_VERBOSITY=10`) and attach the full output.\n",
      "Cause: could not get source code\n",
      "To silence this warning, decorate the function with @tf.autograph.experimental.do_not_convert\n",
      "Model compiled.\n"
     ]
    },
    {
     "data": {
      "text/plain": [
       "<keras.callbacks.History at 0x7fcf81fbaf90>"
      ]
     },
     "execution_count": 25,
     "metadata": {},
     "output_type": "execute_result"
    }
   ],
   "source": [
    "rf.fit(x=train_ds)"
   ]
  },
  {
   "cell_type": "markdown",
   "id": "2382cca8",
   "metadata": {
    "id": "HQaPDLBjmnja",
    "papermill": {
     "duration": 0.013873,
     "end_time": "2025-01-10T08:50:22.025416",
     "exception": false,
     "start_time": "2025-01-10T08:50:22.011543",
     "status": "completed"
    },
    "tags": []
   },
   "source": [
    "# Visualize the model\n",
    "One benefit of tree-based models is that we can easily visualize them. The default number of trees used in the Random Forests is 300. We can select a tree to display below."
   ]
  },
  {
   "cell_type": "code",
   "execution_count": 26,
   "id": "f8cc8246",
   "metadata": {
    "execution": {
     "iopub.execute_input": "2025-01-10T08:50:22.055588Z",
     "iopub.status.busy": "2025-01-10T08:50:22.055157Z",
     "iopub.status.idle": "2025-01-10T08:50:22.522531Z",
     "shell.execute_reply": "2025-01-10T08:50:22.521366Z"
    },
    "id": "hSao4Qstmnja",
    "papermill": {
     "duration": 0.485575,
     "end_time": "2025-01-10T08:50:22.525127",
     "exception": false,
     "start_time": "2025-01-10T08:50:22.039552",
     "status": "completed"
    },
    "tags": []
   },
   "outputs": [
    {
     "data": {
      "text/html": [
       "\n",
       "<script src=\"https://d3js.org/d3.v6.min.js\"></script>\n",
       "<div id=\"tree_plot_ad9eac93dae44bb088bd426138f75bf1\"></div>\n",
       "<script>\n",
       "/*\n",
       " * Copyright 2021 Google LLC.\n",
       " * Licensed under the Apache License, Version 2.0 (the \"License\");\n",
       " * you may not use this file except in compliance with the License.\n",
       " * You may obtain a copy of the License at\n",
       " *\n",
       " *     https://www.apache.org/licenses/LICENSE-2.0\n",
       " *\n",
       " * Unless required by applicable law or agreed to in writing, software\n",
       " * distributed under the License is distributed on an \"AS IS\" BASIS,\n",
       " * WITHOUT WARRANTIES OR CONDITIONS OF ANY KIND, either express or implied.\n",
       " * See the License for the specific language governing permissions and\n",
       " * limitations under the License.\n",
       " */\n",
       "\n",
       "/**\n",
       " *  Plotting of decision trees generated by TF-DF.\n",
       " *\n",
       " *  A tree is a recursive structure of node objects.\n",
       " *  A node contains one or more of the following components:\n",
       " *\n",
       " *    - A value: Representing the output of the node. If the node is not a leaf,\n",
       " *      the value is only present for analysis i.e. it is not used for\n",
       " *      predictions.\n",
       " *\n",
       " *    - A condition : For non-leaf nodes, the condition (also known as split)\n",
       " *      defines a binary test to branch to the positive or negative child.\n",
       " *\n",
       " *    - An explanation: Generally a plot showing the relation between the label\n",
       " *      and the condition to give insights about the effect of the condition.\n",
       " *\n",
       " *    - Two children : For non-leaf nodes, the children nodes. The first\n",
       " *      children (i.e. \"node.children[0]\") is the negative children (drawn in\n",
       " *      red). The second children is the positive one (drawn in green).\n",
       " *\n",
       " */\n",
       "\n",
       "/**\n",
       " * Plots a single decision tree into a DOM element.\n",
       " * @param {!options} options Dictionary of configurations.\n",
       " * @param {!tree} raw_tree Recursive tree structure.\n",
       " * @param {string} canvas_id Id of the output dom element.\n",
       " */\n",
       "function display_tree(options, raw_tree, canvas_id) {\n",
       "  console.log(options);\n",
       "\n",
       "  // Determine the node placement.\n",
       "  const tree_struct = d3.tree().nodeSize(\n",
       "      [options.node_y_offset, options.node_x_offset])(d3.hierarchy(raw_tree));\n",
       "\n",
       "  // Boundaries of the node placement.\n",
       "  let x_min = Infinity;\n",
       "  let x_max = -x_min;\n",
       "  let y_min = Infinity;\n",
       "  let y_max = -x_min;\n",
       "\n",
       "  tree_struct.each(d => {\n",
       "    if (d.x > x_max) x_max = d.x;\n",
       "    if (d.x < x_min) x_min = d.x;\n",
       "    if (d.y > y_max) y_max = d.y;\n",
       "    if (d.y < y_min) y_min = d.y;\n",
       "  });\n",
       "\n",
       "  // Size of the plot.\n",
       "  const width = y_max - y_min + options.node_x_size + options.margin * 2;\n",
       "  const height = x_max - x_min + options.node_y_size + options.margin * 2 +\n",
       "      options.node_y_offset - options.node_y_size;\n",
       "\n",
       "  const plot = d3.select(canvas_id);\n",
       "\n",
       "  // Tool tip\n",
       "  options.tooltip = plot.append('div')\n",
       "                        .attr('width', 100)\n",
       "                        .attr('height', 100)\n",
       "                        .style('padding', '4px')\n",
       "                        .style('background', '#fff')\n",
       "                        .style('box-shadow', '4px 4px 0px rgba(0,0,0,0.1)')\n",
       "                        .style('border', '1px solid black')\n",
       "                        .style('font-family', 'sans-serif')\n",
       "                        .style('font-size', options.font_size)\n",
       "                        .style('position', 'absolute')\n",
       "                        .style('z-index', '10')\n",
       "                        .attr('pointer-events', 'none')\n",
       "                        .style('display', 'none');\n",
       "\n",
       "  // Create canvas\n",
       "  const svg = plot.append('svg').attr('width', width).attr('height', height);\n",
       "  const graph =\n",
       "      svg.style('overflow', 'visible')\n",
       "          .append('g')\n",
       "          .attr('font-family', 'sans-serif')\n",
       "          .attr('font-size', options.font_size)\n",
       "          .attr(\n",
       "              'transform',\n",
       "              () => `translate(${options.margin},${\n",
       "                  - x_min + options.node_y_offset / 2 + options.margin})`);\n",
       "\n",
       "  // Plot bounding box.\n",
       "  if (options.show_plot_bounding_box) {\n",
       "    svg.append('rect')\n",
       "        .attr('width', width)\n",
       "        .attr('height', height)\n",
       "        .attr('fill', 'none')\n",
       "        .attr('stroke-width', 1.0)\n",
       "        .attr('stroke', 'black');\n",
       "  }\n",
       "\n",
       "  // Draw the edges.\n",
       "  display_edges(options, graph, tree_struct);\n",
       "\n",
       "  // Draw the nodes.\n",
       "  display_nodes(options, graph, tree_struct);\n",
       "}\n",
       "\n",
       "/**\n",
       " * Draw the nodes of the tree.\n",
       " * @param {!options} options Dictionary of configurations.\n",
       " * @param {!graph} graph D3 search handle containing the graph.\n",
       " * @param {!tree_struct} tree_struct Structure of the tree (node placement,\n",
       " *     data, etc.).\n",
       " */\n",
       "function display_nodes(options, graph, tree_struct) {\n",
       "  const nodes = graph.append('g')\n",
       "                    .selectAll('g')\n",
       "                    .data(tree_struct.descendants())\n",
       "                    .join('g')\n",
       "                    .attr('transform', d => `translate(${d.y},${d.x})`);\n",
       "\n",
       "  nodes.append('rect')\n",
       "      .attr('x', 0.5)\n",
       "      .attr('y', 0.5)\n",
       "      .attr('width', options.node_x_size)\n",
       "      .attr('height', options.node_y_size)\n",
       "      .attr('stroke', 'lightgrey')\n",
       "      .attr('stroke-width', 1)\n",
       "      .attr('fill', 'white')\n",
       "      .attr('y', -options.node_y_size / 2);\n",
       "\n",
       "  // Brackets on the right of condition nodes without children.\n",
       "  non_leaf_node_without_children =\n",
       "      nodes.filter(node => node.data.condition != null && node.children == null)\n",
       "          .append('g')\n",
       "          .attr('transform', `translate(${options.node_x_size},0)`);\n",
       "\n",
       "  non_leaf_node_without_children.append('path')\n",
       "      .attr('d', 'M0,0 C 10,0 0,10 10,10')\n",
       "      .attr('fill', 'none')\n",
       "      .attr('stroke-width', 1.0)\n",
       "      .attr('stroke', '#F00');\n",
       "\n",
       "  non_leaf_node_without_children.append('path')\n",
       "      .attr('d', 'M0,0 C 10,0 0,-10 10,-10')\n",
       "      .attr('fill', 'none')\n",
       "      .attr('stroke-width', 1.0)\n",
       "      .attr('stroke', '#0F0');\n",
       "\n",
       "  const node_content = nodes.append('g').attr(\n",
       "      'transform',\n",
       "      `translate(0,${options.node_padding - options.node_y_size / 2})`);\n",
       "\n",
       "  node_content.append(node => create_node_element(options, node));\n",
       "}\n",
       "\n",
       "/**\n",
       " * Creates the D3 content for a single node.\n",
       " * @param {!options} options Dictionary of configurations.\n",
       " * @param {!node} node Node to draw.\n",
       " * @return {!d3} D3 content.\n",
       " */\n",
       "function create_node_element(options, node) {\n",
       "  // Output accumulator.\n",
       "  let output = {\n",
       "    // Content to draw.\n",
       "    content: d3.create('svg:g'),\n",
       "    // Vertical offset to the next element to draw.\n",
       "    vertical_offset: 0\n",
       "  };\n",
       "\n",
       "  // Conditions.\n",
       "  if (node.data.condition != null) {\n",
       "    display_condition(options, node.data.condition, output);\n",
       "  }\n",
       "\n",
       "  // Values.\n",
       "  if (node.data.value != null) {\n",
       "    display_value(options, node.data.value, output);\n",
       "  }\n",
       "\n",
       "  // Explanations.\n",
       "  if (node.data.explanation != null) {\n",
       "    display_explanation(options, node.data.explanation, output);\n",
       "  }\n",
       "\n",
       "  return output.content.node();\n",
       "}\n",
       "\n",
       "\n",
       "/**\n",
       " * Adds a single line of text inside of a node.\n",
       " * @param {!options} options Dictionary of configurations.\n",
       " * @param {string} text Text to display.\n",
       " * @param {!output} output Output display accumulator.\n",
       " */\n",
       "function display_node_text(options, text, output) {\n",
       "  output.content.append('text')\n",
       "      .attr('x', options.node_padding)\n",
       "      .attr('y', output.vertical_offset)\n",
       "      .attr('alignment-baseline', 'hanging')\n",
       "      .text(text);\n",
       "  output.vertical_offset += 10;\n",
       "}\n",
       "\n",
       "/**\n",
       " * Adds a single line of text inside of a node with a tooltip.\n",
       " * @param {!options} options Dictionary of configurations.\n",
       " * @param {string} text Text to display.\n",
       " * @param {string} tooltip Text in the Tooltip.\n",
       " * @param {!output} output Output display accumulator.\n",
       " */\n",
       "function display_node_text_with_tooltip(options, text, tooltip, output) {\n",
       "  const item = output.content.append('text')\n",
       "                   .attr('x', options.node_padding)\n",
       "                   .attr('alignment-baseline', 'hanging')\n",
       "                   .text(text);\n",
       "\n",
       "  add_tooltip(options, item, () => tooltip);\n",
       "  output.vertical_offset += 10;\n",
       "}\n",
       "\n",
       "/**\n",
       " * Adds a tooltip to a dom element.\n",
       " * @param {!options} options Dictionary of configurations.\n",
       " * @param {!dom} target Dom element to equip with a tooltip.\n",
       " * @param {!func} get_content Generates the html content of the tooltip.\n",
       " */\n",
       "function add_tooltip(options, target, get_content) {\n",
       "  function show(d) {\n",
       "    options.tooltip.style('display', 'block');\n",
       "    options.tooltip.html(get_content());\n",
       "  }\n",
       "\n",
       "  function hide(d) {\n",
       "    options.tooltip.style('display', 'none');\n",
       "  }\n",
       "\n",
       "  function move(d) {\n",
       "    options.tooltip.style('display', 'block');\n",
       "    options.tooltip.style('left', (d.pageX + 5) + 'px');\n",
       "    options.tooltip.style('top', d.pageY + 'px');\n",
       "  }\n",
       "\n",
       "  target.on('mouseover', show);\n",
       "  target.on('mouseout', hide);\n",
       "  target.on('mousemove', move);\n",
       "}\n",
       "\n",
       "/**\n",
       " * Adds a condition inside of a node.\n",
       " * @param {!options} options Dictionary of configurations.\n",
       " * @param {!condition} condition Condition to display.\n",
       " * @param {!output} output Output display accumulator.\n",
       " */\n",
       "function display_condition(options, condition, output) {\n",
       "  threshold_format = d3.format('r');\n",
       "\n",
       "  if (condition.type === 'IS_MISSING') {\n",
       "    display_node_text(options, `${condition.attribute} is missing`, output);\n",
       "    return;\n",
       "  }\n",
       "\n",
       "  if (condition.type === 'IS_TRUE') {\n",
       "    display_node_text(options, `${condition.attribute} is true`, output);\n",
       "    return;\n",
       "  }\n",
       "\n",
       "  if (condition.type === 'NUMERICAL_IS_HIGHER_THAN') {\n",
       "    format = d3.format('r');\n",
       "    display_node_text(\n",
       "        options,\n",
       "        `${condition.attribute} >= ${threshold_format(condition.threshold)}`,\n",
       "        output);\n",
       "    return;\n",
       "  }\n",
       "\n",
       "  if (condition.type === 'CATEGORICAL_IS_IN') {\n",
       "    display_node_text_with_tooltip(\n",
       "        options, `${condition.attribute} in [...]`,\n",
       "        `${condition.attribute} in [${condition.mask}]`, output);\n",
       "    return;\n",
       "  }\n",
       "\n",
       "  if (condition.type === 'CATEGORICAL_SET_CONTAINS') {\n",
       "    display_node_text_with_tooltip(\n",
       "        options, `${condition.attribute} intersect [...]`,\n",
       "        `${condition.attribute} intersect [${condition.mask}]`, output);\n",
       "    return;\n",
       "  }\n",
       "\n",
       "  if (condition.type === 'NUMERICAL_SPARSE_OBLIQUE') {\n",
       "    display_node_text_with_tooltip(\n",
       "        options, `Sparse oblique split...`,\n",
       "        `[${condition.attributes}]*[${condition.weights}]>=${\n",
       "            threshold_format(condition.threshold)}`,\n",
       "        output);\n",
       "    return;\n",
       "  }\n",
       "\n",
       "  display_node_text(\n",
       "      options, `Non supported condition ${condition.type}`, output);\n",
       "}\n",
       "\n",
       "/**\n",
       " * Adds a value inside of a node.\n",
       " * @param {!options} options Dictionary of configurations.\n",
       " * @param {!value} value Value to display.\n",
       " * @param {!output} output Output display accumulator.\n",
       " */\n",
       "function display_value(options, value, output) {\n",
       "  if (value.type === 'PROBABILITY') {\n",
       "    const left_margin = 0;\n",
       "    const right_margin = 50;\n",
       "    const plot_width = options.node_x_size - options.node_padding * 2 -\n",
       "        left_margin - right_margin;\n",
       "\n",
       "    let cusum = Array.from(d3.cumsum(value.distribution));\n",
       "    cusum.unshift(0);\n",
       "    const distribution_plot = output.content.append('g').attr(\n",
       "        'transform', `translate(0,${output.vertical_offset + 0.5})`);\n",
       "\n",
       "    distribution_plot.selectAll('rect')\n",
       "        .data(value.distribution)\n",
       "        .join('rect')\n",
       "        .attr('height', 10)\n",
       "        .attr(\n",
       "            'x',\n",
       "            (d, i) =>\n",
       "                (cusum[i] * plot_width + left_margin + options.node_padding))\n",
       "        .attr('width', (d, i) => d * plot_width)\n",
       "        .style('fill', (d, i) => d3.schemeSet1[i]);\n",
       "\n",
       "    const num_examples =\n",
       "        output.content.append('g')\n",
       "            .attr('transform', `translate(0,${output.vertical_offset})`)\n",
       "            .append('text')\n",
       "            .attr('x', options.node_x_size - options.node_padding)\n",
       "            .attr('alignment-baseline', 'hanging')\n",
       "            .attr('text-anchor', 'end')\n",
       "            .text(`(${value.num_examples})`);\n",
       "\n",
       "    const distribution_details = d3.create('ul');\n",
       "    distribution_details.selectAll('li')\n",
       "        .data(value.distribution)\n",
       "        .join('li')\n",
       "        .append('span')\n",
       "        .text(\n",
       "            (d, i) =>\n",
       "                'class ' + i + ': ' + d3.format('.3%')(value.distribution[i]));\n",
       "\n",
       "    add_tooltip(options, distribution_plot, () => distribution_details.html());\n",
       "    add_tooltip(options, num_examples, () => 'Number of examples');\n",
       "\n",
       "    output.vertical_offset += 10;\n",
       "    return;\n",
       "  }\n",
       "\n",
       "  if (value.type === 'REGRESSION') {\n",
       "    display_node_text(\n",
       "        options,\n",
       "        'value: ' + d3.format('r')(value.value) + ` (` +\n",
       "            d3.format('.6')(value.num_examples) + `)`,\n",
       "        output);\n",
       "    return;\n",
       "  }\n",
       "\n",
       "  display_node_text(options, `Non supported value ${value.type}`, output);\n",
       "}\n",
       "\n",
       "/**\n",
       " * Adds an explanation inside of a node.\n",
       " * @param {!options} options Dictionary of configurations.\n",
       " * @param {!explanation} explanation Explanation to display.\n",
       " * @param {!output} output Output display accumulator.\n",
       " */\n",
       "function display_explanation(options, explanation, output) {\n",
       "  // Margin before the explanation.\n",
       "  output.vertical_offset += 10;\n",
       "\n",
       "  display_node_text(\n",
       "      options, `Non supported explanation ${explanation.type}`, output);\n",
       "}\n",
       "\n",
       "\n",
       "/**\n",
       " * Draw the edges of the tree.\n",
       " * @param {!options} options Dictionary of configurations.\n",
       " * @param {!graph} graph D3 search handle containing the graph.\n",
       " * @param {!tree_struct} tree_struct Structure of the tree (node placement,\n",
       " *     data, etc.).\n",
       " */\n",
       "function display_edges(options, graph, tree_struct) {\n",
       "  // Draw an edge between a parent and a child node with a bezier.\n",
       "  function draw_single_edge(d) {\n",
       "    return 'M' + (d.source.y + options.node_x_size) + ',' + d.source.x + ' C' +\n",
       "        (d.source.y + options.node_x_size + options.edge_rounding) + ',' +\n",
       "        d.source.x + ' ' + (d.target.y - options.edge_rounding) + ',' +\n",
       "        d.target.x + ' ' + d.target.y + ',' + d.target.x;\n",
       "  }\n",
       "\n",
       "  graph.append('g')\n",
       "      .attr('fill', 'none')\n",
       "      .attr('stroke-width', 1.2)\n",
       "      .selectAll('path')\n",
       "      .data(tree_struct.links())\n",
       "      .join('path')\n",
       "      .attr('d', draw_single_edge)\n",
       "      .attr(\n",
       "          'stroke', d => (d.target === d.source.children[0]) ? '#0F0' : '#F00');\n",
       "}\n",
       "\n",
       "display_tree({\"margin\": 10, \"node_x_size\": 160, \"node_y_size\": 28, \"node_x_offset\": 180, \"node_y_offset\": 33, \"font_size\": 10, \"edge_rounding\": 20, \"node_padding\": 2, \"show_plot_bounding_box\": false}, {\"value\": {\"type\": \"PROBABILITY\", \"distribution\": [0.5123003884333189, 0.48769961156668107], \"num_examples\": 6951.0}, \"condition\": {\"type\": \"NUMERICAL_IS_HIGHER_THAN\", \"attribute\": \"RoomService\", \"threshold\": 0.5}, \"children\": [{\"value\": {\"type\": \"PROBABILITY\", \"distribution\": [0.7437572032270457, 0.2562427967729543], \"num_examples\": 2603.0}, \"condition\": {\"type\": \"NUMERICAL_IS_HIGHER_THAN\", \"attribute\": \"Spa\", \"threshold\": 658.0}, \"children\": [{\"value\": {\"type\": \"PROBABILITY\", \"distribution\": [0.9361179361179361, 0.06388206388206388], \"num_examples\": 407.0}, \"condition\": {\"type\": \"NUMERICAL_IS_HIGHER_THAN\", \"attribute\": \"FoodCourt\", \"threshold\": 9404.5}, \"children\": [{\"value\": {\"type\": \"PROBABILITY\", \"distribution\": [0.3333333333333333, 0.6666666666666666], \"num_examples\": 6.0}}, {\"value\": {\"type\": \"PROBABILITY\", \"distribution\": [0.9451371571072319, 0.05486284289276808], \"num_examples\": 401.0}, \"condition\": {\"type\": \"NUMERICAL_IS_HIGHER_THAN\", \"attribute\": \"VRDeck\", \"threshold\": 65.5}}]}, {\"value\": {\"type\": \"PROBABILITY\", \"distribution\": [0.7081056466302368, 0.2918943533697632], \"num_examples\": 2196.0}, \"condition\": {\"type\": \"NUMERICAL_IS_HIGHER_THAN\", \"attribute\": \"RoomService\", \"threshold\": 309.5}, \"children\": [{\"value\": {\"type\": \"PROBABILITY\", \"distribution\": [0.8360515021459227, 0.16394849785407725], \"num_examples\": 1165.0}, \"condition\": {\"type\": \"CATEGORICAL_IS_IN\", \"attribute\": \"Cabin_num\", \"mask\": [\"<OOD>\", \"82\", \"86\", \"50\", \"186\", \"16\", \"0\", \"63\", \"44\", \"19\", \"178\", \"150\", \"118\", \"103\", \"72\", \"222\", \"137\", \"247\", \"127\", \"105\", \"78\", \"42\", \"23\", \"190\", \"166\", \"99\", \"80\", \"67\", \"5\", \"24\", \"2\", \"120\", \"85\", \"61\", \"47\", \"46\", \"35\", \"193\", \"191\", \"136\", \"119\", \"90\", \"856\", \"7\", \"54\", \"469\", \"233\", \"213\", \"192\", \"179\", \"141\", \"36\", \"308\", \"277\", \"266\", \"262\", \"248\", \"241\", \"215\", \"202\", \"168\", \"165\", \"154\", \"122\", \"93\", \"872\", \"81\", \"601\", \"274\", \"272\", \"271\", \"257\", \"250\", \"237\", \"205\", \"180\", \"169\", \"162\", \"1194\", \"1108\", \"814\", \"765\", \"743\", \"585\", \"577\", \"575\", \"570\", \"522\", \"505\", \"477\", \"475\", \"461\", \"296\", \"286\", \"243\", \"212\", \"1453\", \"1278\", \"1242\", \"926\", \"868\", \"859\", \"838\", \"805\", \"740\", \"711\", \"592\", \"576\", \"553\", \"539\", \"488\", \"465\", \"398\", \"387\", \"386\", \"367\", \"355\", \"334\", \"33\", \"228\", \"1653\", \"1433\", \"1253\", \"1233\", \"1205\", \"1131\", \"1114\", \"106\", \"1047\", \"1000\"]}}, {\"value\": {\"type\": \"PROBABILITY\", \"distribution\": [0.5635305528612997, 0.4364694471387003], \"num_examples\": 1031.0}, \"condition\": {\"type\": \"NUMERICAL_IS_HIGHER_THAN\", \"attribute\": \"ShoppingMall\", \"threshold\": 1131.0}}]}]}, {\"value\": {\"type\": \"PROBABILITY\", \"distribution\": [0.37373505059797607, 0.6262649494020239], \"num_examples\": 4348.0}, \"condition\": {\"type\": \"NUMERICAL_IS_HIGHER_THAN\", \"attribute\": \"FoodCourt\", \"threshold\": 0.0625}, \"children\": [{\"value\": {\"type\": \"PROBABILITY\", \"distribution\": [0.6120033812341504, 0.3879966187658495], \"num_examples\": 1183.0}, \"condition\": {\"type\": \"CATEGORICAL_IS_IN\", \"attribute\": \"Cabin_num\", \"mask\": [\"86\", \"56\", \"16\", \"0\", \"44\", \"269\", \"176\", \"118\", \"103\", \"95\", \"83\", \"72\", \"57\", \"222\", \"22\", \"55\", \"43\", \"247\", \"151\", \"133\", \"123\", \"6\", \"194\", \"190\", \"189\", \"175\", \"117\", \"99\", \"80\", \"75\", \"38\", \"330\", \"235\", \"181\", \"129\", \"1046\", \"101\", \"98\", \"46\", \"35\", \"306\", \"28\", \"264\", \"25\", \"217\", \"208\", \"198\", \"193\", \"182\", \"149\", \"136\", \"8\", \"62\", \"41\", \"249\", \"218\", \"216\", \"213\", \"209\", \"203\", \"192\", \"135\", \"115\", \"107\", \"79\", \"73\", \"69\", \"340\", \"310\", \"285\", \"276\", \"242\", \"241\", \"215\", \"202\", \"170\", \"165\", \"15\", \"130\", \"110\", \"974\", \"88\", \"81\", \"339\", \"325\", \"31\", \"274\", \"272\", \"257\", \"219\", \"205\", \"180\", \"889\", \"70\", \"698\", \"342\", \"309\", \"300\", \"299\", \"280\", \"252\", \"243\", \"240\", \"172\", \"128\", \"937\", \"799\", \"732\", \"603\", \"517\", \"513\", \"455\", \"445\", \"387\", \"338\", \"319\", \"302\", \"207\", \"196\", \"17\", \"1460\", \"1316\", \"1098\", \"104\"]}, \"children\": [{\"value\": {\"type\": \"PROBABILITY\", \"distribution\": [0.5086206896551724, 0.49137931034482757], \"num_examples\": 348.0}, \"condition\": {\"type\": \"NUMERICAL_IS_HIGHER_THAN\", \"attribute\": \"FoodCourt\", \"threshold\": 2388.0}}, {\"value\": {\"type\": \"PROBABILITY\", \"distribution\": [0.6550898203592814, 0.3449101796407186], \"num_examples\": 835.0}, \"condition\": {\"type\": \"NUMERICAL_IS_HIGHER_THAN\", \"attribute\": \"VRDeck\", \"threshold\": 159.0}}]}, {\"value\": {\"type\": \"PROBABILITY\", \"distribution\": [0.28467614533965246, 0.7153238546603475], \"num_examples\": 3165.0}, \"condition\": {\"type\": \"NUMERICAL_IS_HIGHER_THAN\", \"attribute\": \"Spa\", \"threshold\": 0.5}, \"children\": [{\"value\": {\"type\": \"PROBABILITY\", \"distribution\": [0.7935943060498221, 0.20640569395017794], \"num_examples\": 281.0}, \"condition\": {\"type\": \"NUMERICAL_IS_HIGHER_THAN\", \"attribute\": \"Spa\", \"threshold\": 20.0}}, {\"value\": {\"type\": \"PROBABILITY\", \"distribution\": [0.23509015256588073, 0.7649098474341193], \"num_examples\": 2884.0}, \"condition\": {\"type\": \"CATEGORICAL_IS_IN\", \"attribute\": \"Deck\", \"mask\": [\"F\", \"B\", \"C\", \"D\", \"A\"]}}]}]}]}, \"#tree_plot_ad9eac93dae44bb088bd426138f75bf1\")\n",
       "</script>\n"
      ],
      "text/plain": [
       "<IPython.core.display.HTML object>"
      ]
     },
     "execution_count": 26,
     "metadata": {},
     "output_type": "execute_result"
    }
   ],
   "source": [
    "tfdf.model_plotter.plot_model_in_colab(rf, tree_idx=0, max_depth=3)"
   ]
  },
  {
   "cell_type": "markdown",
   "id": "e209c24f",
   "metadata": {
    "id": "1q5zxzuLmnjb",
    "papermill": {
     "duration": 0.014689,
     "end_time": "2025-01-10T08:50:22.554641",
     "exception": false,
     "start_time": "2025-01-10T08:50:22.539952",
     "status": "completed"
    },
    "tags": []
   },
   "source": [
    "# Evaluate the model on the Out of bag (OOB) data and the validation dataset\n",
    "\n",
    "Before training the dataset we have manually seperated 20% of the dataset for validation named as `valid_ds`.\n",
    "\n",
    "We can also use Out of bag (OOB) score to validate our RandomForestModel.\n",
    "To train a Random Forest Model, a set of random samples from training set are choosen by the algorithm and the rest of the samples are used to finetune the model.The subset of data that is not chosen is known as Out of bag data (OOB).\n",
    "OOB score is computed on the OOB data.\n",
    "\n",
    "Read more about OOB data [here](https://developers.google.com/machine-learning/decision-forests/out-of-bag).\n",
    "\n",
    "The training logs show the accuracy evaluated on the out-of-bag dataset according to the number of trees in the model. Let us plot this.\n",
    "\n",
    "Note: Larger values are better for this hyperparameter."
   ]
  },
  {
   "cell_type": "code",
   "execution_count": 27,
   "id": "e6013324",
   "metadata": {
    "execution": {
     "iopub.execute_input": "2025-01-10T08:50:22.587036Z",
     "iopub.status.busy": "2025-01-10T08:50:22.585898Z",
     "iopub.status.idle": "2025-01-10T08:50:22.731685Z",
     "shell.execute_reply": "2025-01-10T08:50:22.729738Z"
    },
    "id": "z7u4IuAQmnjb",
    "papermill": {
     "duration": 0.166006,
     "end_time": "2025-01-10T08:50:22.735517",
     "exception": false,
     "start_time": "2025-01-10T08:50:22.569511",
     "status": "completed"
    },
    "tags": []
   },
   "outputs": [
    {
     "data": {
      "image/png": "[encoded data removed]",
      "text/plain": [
       "<Figure size 640x480 with 1 Axes>"
      ]
     },
     "metadata": {},
     "output_type": "display_data"
    }
   ],
   "source": [
    "import matplotlib.pyplot as plt\n",
    "logs = rf.make_inspector().training_logs()\n",
    "plt.plot([log.num_trees for log in logs], [log.evaluation.accuracy for log in logs])\n",
    "plt.xlabel(\"Number of trees\")\n",
    "plt.ylabel(\"Accuracy (out-of-bag)\")\n",
    "plt.show()"
   ]
  },
  {
   "cell_type": "markdown",
   "id": "257c90da",
   "metadata": {
    "id": "N24V7vhAmnjb",
    "papermill": {
     "duration": 0.015107,
     "end_time": "2025-01-10T08:50:22.766045",
     "exception": false,
     "start_time": "2025-01-10T08:50:22.750938",
     "status": "completed"
    },
    "tags": []
   },
   "source": [
    "We can also see some general stats on the OOB dataset:"
   ]
  },
  {
   "cell_type": "code",
   "execution_count": 28,
   "id": "e028f66d",
   "metadata": {
    "execution": {
     "iopub.execute_input": "2025-01-10T08:50:22.798739Z",
     "iopub.status.busy": "2025-01-10T08:50:22.798315Z",
     "iopub.status.idle": "2025-01-10T08:50:22.808013Z",
     "shell.execute_reply": "2025-01-10T08:50:22.806854Z"
    },
    "id": "QTD92zMGmnjc",
    "papermill": {
     "duration": 0.029161,
     "end_time": "2025-01-10T08:50:22.810556",
     "exception": false,
     "start_time": "2025-01-10T08:50:22.781395",
     "status": "completed"
    },
    "tags": []
   },
   "outputs": [
    {
     "data": {
      "text/plain": [
       "Evaluation(num_examples=6951, accuracy=0.7938426125737303, loss=0.5553633608257604, rmse=None, ndcg=None, aucs=None, auuc=None, qini=None)"
      ]
     },
     "execution_count": 28,
     "metadata": {},
     "output_type": "execute_result"
    }
   ],
   "source": [
    "inspector = rf.make_inspector()\n",
    "inspector.evaluation()"
   ]
  },
  {
   "cell_type": "markdown",
   "id": "36e4ceed",
   "metadata": {
    "id": "SuVS0BGXmnjd",
    "papermill": {
     "duration": 0.015033,
     "end_time": "2025-01-10T08:50:22.841502",
     "exception": false,
     "start_time": "2025-01-10T08:50:22.826469",
     "status": "completed"
    },
    "tags": []
   },
   "source": [
    "Now, let us run an evaluation using the validation dataset."
   ]
  },
  {
   "cell_type": "code",
   "execution_count": 29,
   "id": "4348e9a7",
   "metadata": {
    "execution": {
     "iopub.execute_input": "2025-01-10T08:50:22.876069Z",
     "iopub.status.busy": "2025-01-10T08:50:22.875604Z",
     "iopub.status.idle": "2025-01-10T08:50:23.449206Z",
     "shell.execute_reply": "2025-01-10T08:50:23.447864Z"
    },
    "id": "C0SfSxc0mnjd",
    "papermill": {
     "duration": 0.593676,
     "end_time": "2025-01-10T08:50:23.451656",
     "exception": false,
     "start_time": "2025-01-10T08:50:22.857980",
     "status": "completed"
    },
    "tags": []
   },
   "outputs": [
    {
     "name": "stdout",
     "output_type": "stream",
     "text": [
      "2/2 [==============================] - 1s 67ms/step - loss: 0.0000e+00 - accuracy: 0.7928\n",
      "loss: 0.0000\n",
      "accuracy: 0.7928\n"
     ]
    }
   ],
   "source": [
    "evaluation = rf.evaluate(x=valid_ds,return_dict=True)\n",
    "\n",
    "for name, value in evaluation.items():\n",
    "  print(f\"{name}: {value:.4f}\")"
   ]
  },
  {
   "cell_type": "markdown",
   "id": "8f6d8f0d",
   "metadata": {
    "id": "cgAI1XrVmnje",
    "papermill": {
     "duration": 0.015485,
     "end_time": "2025-01-10T08:50:23.482803",
     "exception": false,
     "start_time": "2025-01-10T08:50:23.467318",
     "status": "completed"
    },
    "tags": []
   },
   "source": [
    "# Variable importances\n",
    "\n",
    "Variable importances generally indicate how much a feature contributes to the model predictions or quality. There are several ways to identify important features using TensorFlow Decision Forests.\n",
    "Let us list the available `Variable Importances` for Decision Trees:"
   ]
  },
  {
   "cell_type": "code",
   "execution_count": 30,
   "id": "c760a1f4",
   "metadata": {
    "execution": {
     "iopub.execute_input": "2025-01-10T08:50:23.517073Z",
     "iopub.status.busy": "2025-01-10T08:50:23.515925Z",
     "iopub.status.idle": "2025-01-10T08:50:23.523199Z",
     "shell.execute_reply": "2025-01-10T08:50:23.521879Z"
    },
    "id": "BdPN_fV1mnje",
    "papermill": {
     "duration": 0.026943,
     "end_time": "2025-01-10T08:50:23.525648",
     "exception": false,
     "start_time": "2025-01-10T08:50:23.498705",
     "status": "completed"
    },
    "tags": []
   },
   "outputs": [
    {
     "name": "stdout",
     "output_type": "stream",
     "text": [
      "Available variable importances:\n",
      "\t INV_MEAN_MIN_DEPTH\n",
      "\t NUM_NODES\n",
      "\t NUM_AS_ROOT\n",
      "\t SUM_SCORE\n"
     ]
    }
   ],
   "source": [
    "print(f\"Available variable importances:\")\n",
    "for importance in inspector.variable_importances().keys():\n",
    "  print(\"\\t\", importance)"
   ]
  },
  {
   "cell_type": "markdown",
   "id": "72778b00",
   "metadata": {
    "id": "dr-nVQwCmnje",
    "papermill": {
     "duration": 0.015811,
     "end_time": "2025-01-10T08:50:23.557198",
     "exception": false,
     "start_time": "2025-01-10T08:50:23.541387",
     "status": "completed"
    },
    "tags": []
   },
   "source": [
    "As an example, let us display the important features for the Variable Importance `NUM_AS_ROOT`.\n",
    "\n",
    "The larger the importance score for `NUM_AS_ROOT`, the more impact it has on the outcome of the model.\n",
    "\n",
    "By default, the list is sorted from the most important to the least. From the output you can infer that the feature at the top of the list is used as the root node in most number of trees in the random forest than any other feature."
   ]
  },
  {
   "cell_type": "code",
   "execution_count": 31,
   "id": "6000870a",
   "metadata": {
    "execution": {
     "iopub.execute_input": "2025-01-10T08:50:23.591102Z",
     "iopub.status.busy": "2025-01-10T08:50:23.590627Z",
     "iopub.status.idle": "2025-01-10T08:50:23.598582Z",
     "shell.execute_reply": "2025-01-10T08:50:23.597377Z"
    },
    "id": "etYOifhfmnje",
    "papermill": {
     "duration": 0.028221,
     "end_time": "2025-01-10T08:50:23.601119",
     "exception": false,
     "start_time": "2025-01-10T08:50:23.572898",
     "status": "completed"
    },
    "tags": []
   },
   "outputs": [
    {
     "data": {
      "text/plain": [
       "[(\"CryoSleep\" (1; #2), 106.0),\n",
       " (\"Spa\" (1; #10), 64.0),\n",
       " (\"RoomService\" (1; #7), 61.0),\n",
       " (\"VRDeck\" (1; #12), 31.0),\n",
       " (\"ShoppingMall\" (1; #8), 25.0),\n",
       " (\"FoodCourt\" (1; #5), 7.0),\n",
       " (\"Deck\" (4; #3), 4.0),\n",
       " (\"HomePlanet\" (4; #6), 2.0)]"
      ]
     },
     "execution_count": 31,
     "metadata": {},
     "output_type": "execute_result"
    }
   ],
   "source": [
    "# Each line is: (feature name, (index of the feature), importance score)\n",
    "inspector.variable_importances()[\"NUM_AS_ROOT\"]"
   ]
  },
  {
   "cell_type": "markdown",
   "id": "67e4c5bd",
   "metadata": {
    "id": "DAtAR0vkmnje",
    "papermill": {
     "duration": 0.016803,
     "end_time": "2025-01-10T08:50:23.633860",
     "exception": false,
     "start_time": "2025-01-10T08:50:23.617057",
     "status": "completed"
    },
    "tags": []
   },
   "source": [
    "# Submission"
   ]
  },
  {
   "cell_type": "code",
   "execution_count": 32,
   "id": "77cf2bd5",
   "metadata": {
    "execution": {
     "iopub.execute_input": "2025-01-10T08:50:23.668660Z",
     "iopub.status.busy": "2025-01-10T08:50:23.667584Z",
     "iopub.status.idle": "2025-01-10T08:50:24.277704Z",
     "shell.execute_reply": "2025-01-10T08:50:24.276470Z"
    },
    "id": "KHBRzBD9mnjf",
    "papermill": {
     "duration": 0.630147,
     "end_time": "2025-01-10T08:50:24.280234",
     "exception": false,
     "start_time": "2025-01-10T08:50:23.650087",
     "status": "completed"
    },
    "tags": []
   },
   "outputs": [
    {
     "name": "stdout",
     "output_type": "stream",
     "text": [
      "5/5 [==============================] - 0s 64ms/step\n"
     ]
    },
    {
     "data": {
      "text/html": [
       "<div>\n",
       "<style scoped>\n",
       "    .dataframe tbody tr th:only-of-type {\n",
       "        vertical-align: middle;\n",
       "    }\n",
       "\n",
       "    .dataframe tbody tr th {\n",
       "        vertical-align: top;\n",
       "    }\n",
       "\n",
       "    .dataframe thead th {\n",
       "        text-align: right;\n",
       "    }\n",
       "</style>\n",
       "<table border=\"1\" class=\"dataframe\">\n",
       "  <thead>\n",
       "    <tr style=\"text-align: right;\">\n",
       "      <th></th>\n",
       "      <th>PassengerId</th>\n",
       "      <th>Transported</th>\n",
       "    </tr>\n",
       "  </thead>\n",
       "  <tbody>\n",
       "    <tr>\n",
       "      <th>0</th>\n",
       "      <td>0013_01</td>\n",
       "      <td>True</td>\n",
       "    </tr>\n",
       "    <tr>\n",
       "      <th>1</th>\n",
       "      <td>0018_01</td>\n",
       "      <td>False</td>\n",
       "    </tr>\n",
       "    <tr>\n",
       "      <th>2</th>\n",
       "      <td>0019_01</td>\n",
       "      <td>True</td>\n",
       "    </tr>\n",
       "    <tr>\n",
       "      <th>3</th>\n",
       "      <td>0021_01</td>\n",
       "      <td>True</td>\n",
       "    </tr>\n",
       "    <tr>\n",
       "      <th>4</th>\n",
       "      <td>0023_01</td>\n",
       "      <td>True</td>\n",
       "    </tr>\n",
       "  </tbody>\n",
       "</table>\n",
       "</div>"
      ],
      "text/plain": [
       "  PassengerId  Transported\n",
       "0     0013_01         True\n",
       "1     0018_01        False\n",
       "2     0019_01         True\n",
       "3     0021_01         True\n",
       "4     0023_01         True"
      ]
     },
     "execution_count": 32,
     "metadata": {},
     "output_type": "execute_result"
    }
   ],
   "source": [
    "# Load the test dataset\n",
    "test_df = pd.read_csv('/kaggle/input/spaceship-titanic/test.csv')\n",
    "submission_id = test_df.PassengerId\n",
    "\n",
    "# Replace NaN values with zero\n",
    "test_df[['VIP', 'CryoSleep']] = test_df[['VIP', 'CryoSleep']].fillna(value=0)\n",
    "\n",
    "# Creating New Features - Deck, Cabin_num and Side from the column Cabin and remove Cabin\n",
    "test_df[[\"Deck\", \"Cabin_num\", \"Side\"]] = test_df[\"Cabin\"].str.split(\"/\", expand=True)\n",
    "test_df = test_df.drop('Cabin', axis=1)\n",
    "\n",
    "# Convert boolean to 1's and 0's\n",
    "test_df['VIP'] = test_df['VIP'].astype(int)\n",
    "test_df['CryoSleep'] = test_df['CryoSleep'].astype(int)\n",
    "\n",
    "# Convert pd dataframe to tf dataset\n",
    "test_ds = tfdf.keras.pd_dataframe_to_tf_dataset(test_df)\n",
    "\n",
    "# Get the predictions for testdata\n",
    "predictions = rf.predict(test_ds)\n",
    "n_predictions = (predictions > 0.5).astype(bool)\n",
    "output = pd.DataFrame({'PassengerId': submission_id,\n",
    "                       'Transported': n_predictions.squeeze()})\n",
    "\n",
    "output.head()"
   ]
  },
  {
   "cell_type": "code",
   "execution_count": 33,
   "id": "9046dcf6",
   "metadata": {
    "execution": {
     "iopub.execute_input": "2025-01-10T08:50:24.318500Z",
     "iopub.status.busy": "2025-01-10T08:50:24.317402Z",
     "iopub.status.idle": "2025-01-10T08:50:24.350380Z",
     "shell.execute_reply": "2025-01-10T08:50:24.349094Z"
    },
    "id": "OZuB6CdUmnjf",
    "papermill": {
     "duration": 0.056355,
     "end_time": "2025-01-10T08:50:24.352954",
     "exception": false,
     "start_time": "2025-01-10T08:50:24.296599",
     "status": "completed"
    },
    "tags": []
   },
   "outputs": [
    {
     "data": {
      "text/html": [
       "<div>\n",
       "<style scoped>\n",
       "    .dataframe tbody tr th:only-of-type {\n",
       "        vertical-align: middle;\n",
       "    }\n",
       "\n",
       "    .dataframe tbody tr th {\n",
       "        vertical-align: top;\n",
       "    }\n",
       "\n",
       "    .dataframe thead th {\n",
       "        text-align: right;\n",
       "    }\n",
       "</style>\n",
       "<table border=\"1\" class=\"dataframe\">\n",
       "  <thead>\n",
       "    <tr style=\"text-align: right;\">\n",
       "      <th></th>\n",
       "      <th>PassengerId</th>\n",
       "      <th>Transported</th>\n",
       "    </tr>\n",
       "  </thead>\n",
       "  <tbody>\n",
       "    <tr>\n",
       "      <th>0</th>\n",
       "      <td>0013_01</td>\n",
       "      <td>True</td>\n",
       "    </tr>\n",
       "    <tr>\n",
       "      <th>1</th>\n",
       "      <td>0018_01</td>\n",
       "      <td>False</td>\n",
       "    </tr>\n",
       "    <tr>\n",
       "      <th>2</th>\n",
       "      <td>0019_01</td>\n",
       "      <td>True</td>\n",
       "    </tr>\n",
       "    <tr>\n",
       "      <th>3</th>\n",
       "      <td>0021_01</td>\n",
       "      <td>True</td>\n",
       "    </tr>\n",
       "    <tr>\n",
       "      <th>4</th>\n",
       "      <td>0023_01</td>\n",
       "      <td>True</td>\n",
       "    </tr>\n",
       "  </tbody>\n",
       "</table>\n",
       "</div>"
      ],
      "text/plain": [
       "  PassengerId  Transported\n",
       "0     0013_01         True\n",
       "1     0018_01        False\n",
       "2     0019_01         True\n",
       "3     0021_01         True\n",
       "4     0023_01         True"
      ]
     },
     "execution_count": 33,
     "metadata": {},
     "output_type": "execute_result"
    }
   ],
   "source": [
    "sample_submission_df = pd.read_csv('/kaggle/input/spaceship-titanic/sample_submission.csv')\n",
    "sample_submission_df['Transported'] = n_predictions\n",
    "sample_submission_df.to_csv('/kaggle/working/submission.csv', index=False)\n",
    "sample_submission_df.head()"
   ]
  }
 ],
 "metadata": {
  "kaggle": {
   "accelerator": "none",
   "dataSources": [
    {
     "databundleVersionId": 3220602,
     "sourceId": 34377,
     "sourceType": "competition"
    }
   ],
   "dockerImageVersionId": 30407,
   "isGpuEnabled": false,
   "isInternetEnabled": true,
   "language": "python",
   "sourceType": "notebook"
  },
  "kernelspec": {
   "display_name": "Python 3",
   "language": "python",
   "name": "python3"
  },
  "language_info": {
   "codemirror_mode": {
    "name": "ipython",
    "version": 3
   },
   "file_extension": ".py",
   "mimetype": "text/x-python",
   "name": "python",
   "nbconvert_exporter": "python",
   "pygments_lexer": "ipython3",
   "version": "3.7.12"
  },
  "papermill": {
   "default_parameters": {},
   "duration": 92.246799,
   "end_time": "2025-01-10T08:50:27.372157",
   "environment_variables": {},
   "exception": null,
   "input_path": "__notebook__.ipynb",
   "output_path": "__notebook__.ipynb",
   "parameters": {},
   "start_time": "2025-01-10T08:48:55.125358",
   "version": "2.4.0"
  }
 },
 "nbformat": 4,
 "nbformat_minor": 5
}
